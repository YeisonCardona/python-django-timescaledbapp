{
 "cells": [
  {
   "cell_type": "code",
   "execution_count": 2,
   "id": "35f40c88-590d-4e35-be43-8489a5ad87a5",
   "metadata": {
    "editable": true,
    "nbsphinx": "hidden",
    "slideshow": {
     "slide_type": ""
    },
    "tags": []
   },
   "outputs": [
    {
     "data": {
      "text/plain": [
       "CompletedProcess(args=\"source /home/yeison/Development/PythonDev/DunderLab/venv311/bin/activate;docker rm timescaledbapp_v2;docker stop timescaledbapp_v2;timescaledbapp_create --name timescaledbapp_v2;djangoship restart;python manage.py migrate timescaledbapp --database='timescaledb'\", returncode=0)"
      ]
     },
     "execution_count": 2,
     "metadata": {},
     "output_type": "execute_result"
    }
   ],
   "source": [
    "import subprocess\n",
    "import nest_asyncio\n",
    "nest_asyncio.apply()\n",
    "\n",
    "import numpy as np\n",
    "from datetime import datetime\n",
    "\n",
    "working_directory = '/home/yeison/Development/PythonDev/DunderLab/django-apps/python-django-timescaledbapp/example'\n",
    "command = \"\\\n",
    "source /home/yeison/Development/PythonDev/DunderLab/venv311/bin/activate;\\\n",
    "docker rm timescaledbapp_v2;\\\n",
    "docker stop timescaledbapp_v2;\\\n",
    "timescaledbapp_create --name timescaledbapp_v2;\\\n",
    "djangoship restart;\\\n",
    "python manage.py migrate timescaledbapp --database='timescaledb'\\\n",
    "\"\n",
    "reset_database = lambda :subprocess.run(command, shell=True, cwd=working_directory, stdout=subprocess.DEVNULL, stderr=subprocess.DEVNULL)\n",
    "reset_database()"
   ]
  },
  {
   "cell_type": "markdown",
   "id": "a00aa807-1238-43b1-aab1-8f18343a8060",
   "metadata": {
    "editable": true,
    "slideshow": {
     "slide_type": ""
    },
    "tags": []
   },
   "source": [
    "# Example Usage: RESTful API\n",
    "\n",
    "In this example, we will show you how to use the `dunderlab.api` library to interact with the RESTful API provided by the TimescaleDB App."
   ]
  },
  {
   "cell_type": "code",
   "execution_count": 3,
   "id": "7200a663-b40b-405c-a412-72102c4c0b3a",
   "metadata": {
    "editable": true,
    "slideshow": {
     "slide_type": ""
    },
    "tags": []
   },
   "outputs": [],
   "source": [
    "from dunderlab.api import aioAPI as API\n",
    "from dunderlab.api.utils import JSON\n",
    "\n",
    "api = API('http://localhost:8000/timescaledbapp/')"
   ]
  },
  {
   "cell_type": "markdown",
   "id": "9620e03a-58d0-4088-b0fa-838a0c40fb4e",
   "metadata": {
    "tags": []
   },
   "source": [
    "1. First, import the `aioAPI` class from the `dunderlab.api` module, and give it an alias `API`.\n",
    "2. Next, create an instance of the `API` class by providing the base URL of the TimescaleDB App RESTful API (in this case, it's `http://localhost:8000/realtimedbapp/`).\n",
    "\n",
    "Now, you have an `api` object that can be used to interact with the TimescaleDB App's RESTful API.\n"
   ]
  },
  {
   "cell_type": "markdown",
   "id": "b0a4e3d4-c975-4f72-b149-35d6e0b29be5",
   "metadata": {
    "tags": []
   },
   "source": [
    "## Fetching available API endpoints\n",
    "\n",
    "In this section, you will learn how to obtain the available API endpoints for the TimescaleDB App. This information will help you understand the different endpoints and their functionalities, enabling you to make the most of the TimescaleDB App API in your projects."
   ]
  },
  {
   "cell_type": "code",
   "execution_count": 4,
   "id": "ddf3b0da-589e-4194-8679-ae744af71f34",
   "metadata": {
    "tags": []
   },
   "outputs": [
    {
     "name": "stdout",
     "output_type": "stream",
     "text": [
      "\n",
      "{\n",
      "  \"source\": \"http://localhost:8000/timescaledbapp/source/\",\n",
      "  \"measure\": \"http://localhost:8000/timescaledbapp/measure/\",\n",
      "  \"channel\": \"http://localhost:8000/timescaledbapp/channel/\",\n",
      "  \"chunk\": \"http://localhost:8000/timescaledbapp/chunk/\",\n",
      "  \"timeserie\": \"http://localhost:8000/timescaledbapp/timeserie/\",\n",
      "}\n"
     ]
    }
   ],
   "source": [
    "endopoints = await api.endpoints()\n",
    "JSON(endopoints)"
   ]
  },
  {
   "cell_type": "markdown",
   "id": "5318ff0c-5fa5-4f88-b82e-36e9c1645778",
   "metadata": {},
   "source": [
    "1. Call the `endpoints()` method on the `api` object using the `await` keyword.\n",
    "2. This method returns a list of available API endpoints for the TimescaleDB App.\n",
    "\n",
    "Make sure to use this snippet within an asynchronous context, such as inside an `async def` function or a Jupyter notebook cell with `!pip install nest_asyncio` and `import nest_asyncio; nest_asyncio.apply()` executed beforehand."
   ]
  },
  {
   "cell_type": "markdown",
   "id": "80501296-dbda-4a0c-a288-db1859b8423a",
   "metadata": {
    "tags": []
   },
   "source": [
    "## Create timeseries environment"
   ]
  },
  {
   "cell_type": "markdown",
   "id": "2be5ef45-f382-4f53-a44a-c3858a36f7f9",
   "metadata": {},
   "source": [
    "### Adding a new data source\n",
    "\n",
    "In this section, you will learn how to add a new data source using the TimescaleDB App API. By following the provided instructions, you can easily integrate new data sources into your projects and enhance their functionality."
   ]
  },
  {
   "cell_type": "code",
   "execution_count": 5,
   "id": "b7c3ea5a-8661-4eab-82a3-3c2ca635ea9d",
   "metadata": {
    "tags": []
   },
   "outputs": [
    {
     "name": "stdout",
     "output_type": "stream",
     "text": [
      "\n",
      "{\n",
      "  \"label\": \"Test.v1\",\n",
      "  \"name\": \"Test Database\",\n",
      "  \"location\": \"Eje Cafetero\",\n",
      "  \"device\": \"None\",\n",
      "  \"protocol\": \"None\",\n",
      "  \"version\": \"0.1\",\n",
      "  \"description\": \"Sample database for TimeScaleDBApp\",\n",
      "  \"created\": \"2023-06-06T01:57:34.430109Z\",\n",
      "}\n"
     ]
    }
   ],
   "source": [
    "source_response = await api.source.post({\n",
    "    'label': 'Test.v1',\n",
    "    'name': 'Test Database',\n",
    "    'location': 'Eje Cafetero',\n",
    "    'device': 'None',\n",
    "    'protocol': 'None',\n",
    "    'version': '0.1',\n",
    "    'description': 'Sample database for TimeScaleDBApp',\n",
    "})\n",
    "\n",
    "JSON(source_response)"
   ]
  },
  {
   "cell_type": "markdown",
   "id": "a128c128-af94-4f22-a86e-a28ea416ed4c",
   "metadata": {
    "tags": []
   },
   "source": [
    "1. Call the `post()` method on the `api.source` object using the `await` keyword.\n",
    "2. Provide a dictionary containing the required information for the new data source:\n",
    "   - `'label'`: A string representing the data source name.\n",
    "   - `'name'`: A string representing the name of the data source.\n",
    "   - `'location'`: A string representing the location of the data source.\n",
    "   - `'device'`: A string representing the device used for the data source.\n",
    "   - `'protocol'`: A string representing the communication protocol used by the data source.\n",
    "   - `'version'`: A string representing the version of the data source.\n",
    "   - `'description'`: \n",
    "\n",
    "Make sure to use this snippet within an asynchronous context, such as inside an `async def` function or a Jupyter notebook cell with `!pip install nest_asyncio` and `import nest_asyncio; nest_asyncio.apply()` executed beforehand."
   ]
  },
  {
   "cell_type": "markdown",
   "id": "67cc89fd-f632-4b00-aea2-2525ccc8a4c2",
   "metadata": {},
   "source": [
    "### Retrieving data sources\n",
    "\n",
    "In this section, you will learn how to retrieve the data sources using the TimescaleDB App API. This will allow you to access and manage the data sources associated with your projects, ensuring efficient data handling and organization."
   ]
  },
  {
   "cell_type": "code",
   "execution_count": 6,
   "id": "54f30780-3522-473e-b45c-f6753f62d832",
   "metadata": {
    "tags": []
   },
   "outputs": [
    {
     "name": "stdout",
     "output_type": "stream",
     "text": [
      "\n",
      "{\n",
      "  \"count\": 1,\n",
      "  \"next\": null,\n",
      "  \"previous\": null,\n",
      "  \"results\": [\n",
      "    {\n",
      "      \"label\": \"Test.v1\",\n",
      "      \"name\": \"Test Database\",\n",
      "      \"location\": \"Eje Cafetero\",\n",
      "      \"device\": \"None\",\n",
      "      \"protocol\": \"None\",\n",
      "      \"version\": \"0.1\",\n",
      "      \"description\": \"Sample database for TimeScaleDBApp\",\n",
      "      \"created\": \"2023-06-06T01:57:34.430109Z\",\n",
      "    }],\n",
      "}\n"
     ]
    }
   ],
   "source": [
    "source_retrieve = await api.source.get()\n",
    "JSON(source_retrieve)"
   ]
  },
  {
   "cell_type": "markdown",
   "id": "96798498-16c7-457a-b271-5438497ba0b4",
   "metadata": {
    "tags": []
   },
   "source": [
    "1. Call the `get()` method on the `api.source` object using the `await` keyword.\n",
    "2. The method returns a dictionary containing the list of data sources and their details."
   ]
  },
  {
   "cell_type": "markdown",
   "id": "6180f15f-77cb-4304-a4ca-c17b507299ac",
   "metadata": {
    "tags": []
   },
   "source": [
    "### Adding a new measurement\n",
    "\n",
    "In this section, you will learn how to add a new measurement using the TimescaleDB App API. This will enable you to expand the scope of your data analysis and easily incorporate new metrics into your projects."
   ]
  },
  {
   "cell_type": "code",
   "execution_count": 7,
   "id": "26e0b569-f4dd-4ee7-b013-29629f69100b",
   "metadata": {
    "tags": []
   },
   "outputs": [
    {
     "name": "stdout",
     "output_type": "stream",
     "text": [
      "\n",
      "{\n",
      "  \"label\": \"measure_01\",\n",
      "  \"name\": \"Measure 01\",\n",
      "  \"description\": \"Simple sinusoidals for 64 channels at different frequencies\",\n",
      "  \"source\": \"Test.v1\",\n",
      "}\n"
     ]
    }
   ],
   "source": [
    "measure_response = await api.measure.post({\n",
    "    'source': 'Test.v1',\n",
    "    'label': 'measure_01',\n",
    "    'name': 'Measure 01',\n",
    "    'description': 'Simple sinusoidals for 64 channels at different frequencies',\n",
    "})\n",
    "\n",
    "JSON(measure_response)"
   ]
  },
  {
   "cell_type": "markdown",
   "id": "6b618e45-1490-469c-85aa-7c01419859e6",
   "metadata": {
    "tags": []
   },
   "source": [
    "1. Call the `post()` method on the `api.measure` object using the `await` keyword.\n",
    "2. Provide a dictionary containing the required information for the new measurement:\n",
    "   - `'source'`: A string representing the data source name, which should match the source added earlier.\n",
    "   - `'label'`: A string representing the short label for the measurement.\n",
    "   - `'name'`: A string representing the full name or description of the measurement.\n",
    "   - `'description'`: "
   ]
  },
  {
   "cell_type": "markdown",
   "id": "b12d1864-f6aa-4202-b5a6-75209fe693db",
   "metadata": {},
   "source": [
    "### Retrieving measurements\n",
    "\n",
    "In this section, you will learn how to retrieve the measurements using the TimescaleDB App API. This will help you access and manage the metrics associated with your projects, ensuring proper data analysis and visualization."
   ]
  },
  {
   "cell_type": "code",
   "execution_count": 8,
   "id": "556a1cfd-f8f2-46b3-97c5-dbcff22f7c3d",
   "metadata": {
    "tags": []
   },
   "outputs": [
    {
     "name": "stdout",
     "output_type": "stream",
     "text": [
      "\n",
      "{\n",
      "  \"count\": 1,\n",
      "  \"next\": null,\n",
      "  \"previous\": null,\n",
      "  \"results\": [\n",
      "    {\n",
      "      \"label\": \"measure_01\",\n",
      "      \"name\": \"Measure 01\",\n",
      "      \"description\": \"Simple sinusoidals for 64 channels at different frequencies\",\n",
      "      \"source\": \"Test.v1\",\n",
      "    }],\n",
      "}\n"
     ]
    }
   ],
   "source": [
    "measure_retrieve = await api.measure.get({\"source\": \"Test.v1\"})\n",
    "JSON(measure_retrieve)"
   ]
  },
  {
   "cell_type": "markdown",
   "id": "4d74ff4b-98c6-4991-984c-ae5a0b4f6b3f",
   "metadata": {},
   "source": [
    "1. Call the `get()` method on the `api.measure` object using the `await` keyword.\n",
    "2. The method returns a dictionary containing the list of measurements and their details."
   ]
  },
  {
   "cell_type": "markdown",
   "id": "a43f72c9-5ffe-405f-845e-ce72bccf5be5",
   "metadata": {
    "tags": []
   },
   "source": [
    "### Adding multiple channels\n",
    "\n",
    "In this section, you will learn how to add multiple channels using the TimescaleDB App API. This will allow you to efficiently manage and organize multiple data streams, improving the overall performance and functionality of your projects."
   ]
  },
  {
   "cell_type": "code",
   "execution_count": 9,
   "id": "7d8e79bd-5638-4882-bc8c-344a19f6be7c",
   "metadata": {
    "scrolled": true,
    "tags": []
   },
   "outputs": [
    {
     "name": "stdout",
     "output_type": "stream",
     "text": [
      "[\n",
      "  {\n",
      "    \"label\": \"Fp1\",\n",
      "    \"name\": \"Channel Fp1\",\n",
      "    \"unit\": \"u\",\n",
      "    \"sampling_rate\": 1000.0,\n",
      "    \"description\": null,\n",
      "    \"measure\": \"measure_01\",\n",
      "    \"source\": \"Test.v1\",\n",
      "  }, \n",
      "  {\n",
      "    \"label\": \"Fp2\",\n",
      "    \"name\": \"Channel Fp2\",\n",
      "    \"unit\": \"u\",\n",
      "    \"sampling_rate\": 1000.0,\n",
      "    \"description\": null,\n",
      "    \"measure\": \"measure_01\",\n",
      "    \"source\": \"Test.v1\",\n",
      "  }, \n",
      "  {\n",
      "    \"label\": \"F7\",\n",
      "    \"name\": \"Channel F7\",\n",
      "    \"unit\": \"u\",\n",
      "    \"sampling_rate\": 1000.0,\n",
      "    \"description\": null,\n",
      "    \"measure\": \"measure_01\",\n",
      "    \"source\": \"Test.v1\",\n",
      "  }, \n",
      "  {\n",
      "    \"label\": \"F3\",\n",
      "    \"name\": \"Channel F3\",\n",
      "    \"unit\": \"u\",\n",
      "    \"sampling_rate\": 1000.0,\n",
      "    \"description\": null,\n",
      "    \"measure\": \"measure_01\",\n",
      "    \"source\": \"Test.v1\",\n",
      "  }, \n",
      "  {\n",
      "    \"label\": \"Fz\",\n",
      "    \"name\": \"Channel Fz\",\n",
      "    \"unit\": \"u\",\n",
      "    \"sampling_rate\": 1000.0,\n",
      "    \"description\": null,\n",
      "    \"measure\": \"measure_01\",\n",
      "    \"source\": \"Test.v1\",\n",
      "  }, ...]\n"
     ]
    }
   ],
   "source": [
    "channels_names = ['Fp1','Fp2','F7','F3','Fz','F4','F8','T7','T8','P7','P3','Pz','P4','P8','O1','O2']\n",
    "\n",
    "channel_response = await api.channel.post([{\n",
    "    'source': 'Test.v1',\n",
    "    'measure': 'measure_01',\n",
    "    'name': f'Channel {channel}',\n",
    "    'label': f'{channel}',\n",
    "    'unit': 'u',\n",
    "    'sampling_rate': '1000',\n",
    "} for channel in channels_names])\n",
    "\n",
    "JSON(channel_response)"
   ]
  },
  {
   "cell_type": "markdown",
   "id": "9486d222-efba-4645-b988-3248b6dbdab6",
   "metadata": {},
   "source": [
    "1. Define a list of channel names (`channels`).\n",
    "2. Call the `post()` method on the `api.channel` object using the `await` keyword.\n",
    "3. Provide a list comprehension that generates a dictionary for each channel containing the required information:\n",
    "   - `'measure'`: A string representing the measurement name, which should match the measurement added earlier (in this case, 'OpenBCI+EEG').\n",
    "   - `'name'`: A string representing the name of the channel.\n",
    "   - `'unit'`: A string representing the unit of measurement for the channel (e.g., 'µv').\n",
    "   - `'sampling_rate'`: A string representing the sample rate for the channel.\n",
    "   - `'label'`: A string representing the label for the channel.\n"
   ]
  },
  {
   "cell_type": "markdown",
   "id": "324abe78-eff5-4002-81ee-aa0d5b41ed3f",
   "metadata": {
    "tags": []
   },
   "source": [
    "### Retrieving channels\n",
    "\n",
    "In this section, you will learn how to retrieve the channels using the TimescaleDB App API. This will enable you to access and manage the data streams associated with your projects, ensuring an organized and efficient data handling process."
   ]
  },
  {
   "cell_type": "code",
   "execution_count": 9,
   "id": "fcc01d95-9107-4593-8afe-3ad157184691",
   "metadata": {
    "tags": []
   },
   "outputs": [
    {
     "name": "stdout",
     "output_type": "stream",
     "text": [
      "\n",
      "{\n",
      "  \"count\": 16,\n",
      "  \"next\": null,\n",
      "  \"previous\": null,\n",
      "  \"results\": [\n",
      "    {\n",
      "      \"label\": \"Fp1\",\n",
      "      \"name\": \"Channel Fp1\",\n",
      "      \"unit\": \"u\",\n",
      "      \"sampling_rate\": 1000.0,\n",
      "      \"description\": null,\n",
      "      \"measure\": \"measure_01\",\n",
      "      \"source\": \"Test.v1\",\n",
      "    }, \n",
      "    {\n",
      "      \"label\": \"Fp2\",\n",
      "      \"name\": \"Channel Fp2\",\n",
      "      \"unit\": \"u\",\n",
      "      \"sampling_rate\": 1000.0,\n",
      "      \"description\": null,\n",
      "      \"measure\": \"measure_01\",\n",
      "      \"source\": \"Test.v1\",\n",
      "    }, \n",
      "    {\n",
      "      \"label\": \"F7\",\n",
      "      \"name\": \"Channel F7\",\n",
      "      \"unit\": \"u\",\n",
      "      \"sampling_rate\": 1000.0,\n",
      "      \"description\": null,\n",
      "      \"measure\": \"measure_01\",\n",
      "      \"source\": \"Test.v1\",\n",
      "    }, \n",
      "    {\n",
      "      \"label\": \"F3\",\n",
      "      \"name\": \"Channel F3\",\n",
      "      \"unit\": \"u\",\n",
      "      \"sampling_rate\": 1000.0,\n",
      "      \"description\": null,\n",
      "      \"measure\": \"measure_01\",\n",
      "      \"source\": \"Test.v1\",\n",
      "    }, \n",
      "    {\n",
      "      \"label\": \"Fz\",\n",
      "      \"name\": \"Channel Fz\",\n",
      "      \"unit\": \"u\",\n",
      "      \"sampling_rate\": 1000.0,\n",
      "      \"description\": null,\n",
      "      \"measure\": \"measure_01\",\n",
      "      \"source\": \"Test.v1\",\n",
      "    }, ...],\n",
      "}\n"
     ]
    }
   ],
   "source": [
    "channel_retrieve = await api.channel.get({'source': 'Test.v1', 'measure': 'measure_01',})\n",
    "JSON(channel_retrieve)"
   ]
  },
  {
   "cell_type": "markdown",
   "id": "6bcfbfe4-102c-4e4d-94f2-f801135c994d",
   "metadata": {},
   "source": [
    "1. Call the `get()` method on the `api.channel` object using the `await` keyword.\n",
    "2. The method returns a dictionary containing the list of channels and their details."
   ]
  },
  {
   "cell_type": "markdown",
   "id": "a9d1d809-394d-42d5-83e8-42cbde7e35e8",
   "metadata": {
    "tags": []
   },
   "source": [
    "### Posting time series data"
   ]
  },
  {
   "cell_type": "markdown",
   "id": "bf78c94c-729f-43b2-9f13-867e8cecc207",
   "metadata": {
    "tags": []
   },
   "source": [
    "#### Generating sample data\n",
    "\n",
    "There are two ways to format data for creating time series. The first method involves specifying the channel name as a field in each data point. The data is organized as follows."
   ]
  },
  {
   "cell_type": "code",
   "execution_count": 6,
   "id": "c9531c3e-18a5-4412-bf2a-874c080e965d",
   "metadata": {},
   "outputs": [
    {
     "name": "stdout",
     "output_type": "stream",
     "text": [
      "\n",
      "{\n",
      "  \"source\": \"Test.v1\",\n",
      "  \"measure\": \"measure_01\",\n",
      "  \"timestamps\": [10000.0, 10000.001, 10000.002, 10000.003, 10000.004, ...],\n",
      "  \"values\": \n",
      "  {\n",
      "    \"Fp1\": [0.2948164761053757, -0.31465378005812855, -1.3083352809860844, 0.8769718136054633, -1.1137828329627866, ...],\n",
      "    \"Fp2\": [0.03983312706710854, -0.5992353301036729, -1.189151379051229, -1.1403568785498805, 1.6955040060411615, ...],\n",
      "    \"F7\": [-0.2734489381591992, -0.1942208393249753, -0.8230472408728662, -0.3135348038587168, -0.10604828988511508, ...],\n",
      "    \"F3\": [1.1789363370229073, 0.5622114952377406, -1.7636879397676435, 1.407353522703084, 1.114777326416058, ...],\n",
      "    \"Fz\": [0.6067517135409638, 0.3141982358802382, -0.7734198527092492, -1.8604770001323208, 0.8752542117769782, ...],\n",
      "    \"F4\": [-0.276769393158198, 0.13196668173996323, -1.8651540098587664, -1.2138759245735682, -0.6070820793959307, ...],\n",
      "    \"F8\": [-0.14149302998742452, -0.8029194899460655, -0.5778003125303613, 1.0414299651101167, -0.22279015829260648, ...],\n",
      "    \"T7\": [0.1743053394390174, 1.6705522380409674, -1.368770809666183, -1.0039002536681692, -1.2099602906528992, ...],\n",
      "    \"T8\": [1.1815920003422014, -0.8343138840632186, 1.6637187901637323, 0.7480928025094539, -0.4405029647627699, ...],\n",
      "    \"P7\": [0.5069482732786997, -0.7994300674910173, -0.6357942739514462, -2.9914443610918053, 0.73275114220076, ...],\n",
      "    \"P3\": [1.1095856534206128, -0.1284513625790242, -1.6350067501352268, 1.3786231650107488, 1.4121072922175966, ...],\n",
      "    \"Pz\": [0.470010613870793, -0.6338130345132711, 0.8645849079949482, 1.6731179483956624, 0.6090981807439027, ...],\n",
      "    \"P4\": [1.3996501113434547, 0.4705259762346314, 1.8980670467983236, 0.5093955221138694, -1.5601002518302736, ...],\n",
      "    \"P8\": [-2.3441167867809396, -1.000655625294035, 1.0424733786524318, 0.593670230408263, -0.09290102826521496, ...],\n",
      "    \"O1\": [-0.12149257313238736, -0.5241927577587135, 1.3992028883122427, -0.6748226551506735, -0.11549365422072154, ...],\n",
      "    \"O2\": [-0.5309684473412916, -0.3217368130811503, 1.6973853031405595, 1.4670719145653774, 1.8629324455984042, ...],\n",
      "  },\n",
      "}\n"
     ]
    }
   ],
   "source": [
    "samples = 1000\n",
    "timestamps = np.linspace(0, 1, samples, endpoint=False).tolist()\n",
    "values = np.random.normal(size=(16, samples)).tolist()\n",
    "\n",
    "data = {\n",
    "    'source': 'Test.v1',\n",
    "    'measure': 'measure_01',\n",
    "    'timestamps': timestamps,\n",
    "    'values': {ch: v for ch, v in zip(channels_names, values)}\n",
    "}\n",
    "\n",
    "JSON(data)"
   ]
  },
  {
   "cell_type": "code",
   "execution_count": 52,
   "id": "b66f2699-84a1-4983-8f23-163f677a6fbf",
   "metadata": {
    "tags": []
   },
   "outputs": [
    {
     "name": "stderr",
     "output_type": "stream",
     "text": [
      "WARNING:root:Error 403: Forbidden\n"
     ]
    },
    {
     "name": "stdout",
     "output_type": "stream",
     "text": [
      "null\n"
     ]
    }
   ],
   "source": [
    "timeserie_response = await api.timeserie.post(data)\n",
    "JSON(timeserie_response)"
   ]
  },
  {
   "cell_type": "code",
   "execution_count": 53,
   "id": "24020eec-bdcd-4534-aa3a-4169a5491b72",
   "metadata": {},
   "outputs": [
    {
     "name": "stderr",
     "output_type": "stream",
     "text": [
      "WARNING:root:Error 403: Forbidden\n"
     ]
    },
    {
     "name": "stdout",
     "output_type": "stream",
     "text": [
      "null\n"
     ]
    }
   ],
   "source": [
    "samples = 100\n",
    "timestamps = (np.linspace(0, 1, samples, endpoint=False)+29000).tolist()\n",
    "values = np.random.normal(size=(16, samples)).tolist()\n",
    "\n",
    "data = {\n",
    "    'source': 'Test.v1',\n",
    "    'measure': 'measure_01',\n",
    "    'timestamps': timestamps,\n",
    "    'values': {ch: v for ch, v in zip(channels_names, values)}\n",
    "}\n",
    "\n",
    "timeserie_response = await api.timeserie.post(data)\n",
    "JSON(timeserie_response)"
   ]
  },
  {
   "cell_type": "markdown",
   "id": "8fd3043a-9907-414d-a3de-d1cece1dbf01",
   "metadata": {},
   "source": [
    "1. Call the `post()` method on the `api.timeserie` object using the `await` keyword.\n",
    "2. Provide the generated `data` list as the first argument."
   ]
  },
  {
   "cell_type": "markdown",
   "id": "e5a3d509-3e65-4420-9b29-bfedb9b40128",
   "metadata": {
    "tags": []
   },
   "source": [
    "### Retrieving time series statistical data\n",
    "\n",
    "In this section, you will learn how to retrieve the statistical data of the time series using the TimescaleDB App API. This will allow you to analyze and visualize key metrics and patterns in your data, enhancing your project's overall data-driven insights."
   ]
  },
  {
   "cell_type": "code",
   "execution_count": 12,
   "id": "c1678391-3822-4a28-861a-439a12470009",
   "metadata": {
    "tags": []
   },
   "outputs": [
    {
     "name": "stdout",
     "output_type": "stream",
     "text": [
      "\n",
      "{\n",
      "  \"count\": 1000,\n",
      "  \"next\": null,\n",
      "  \"previous\": null,\n",
      "  \"results\": \n",
      "  {\n",
      "    \"source\": \"Test.v1\",\n",
      "    \"measure\": \"measure_01\",\n",
      "    \"timestamps\": \n",
      "    {\n",
      "      \"tmin\": 0.0,\n",
      "      \"tmax\": 0.999,\n",
      "      \"duration\": 0.999,\n",
      "      \"avg_diff_timestamp\": 1.0,\n",
      "      \"std_diff_timestamp\": 8.063265548732995e-15,\n",
      "      \"max_diff_timestamp\": 1.0000000000000009,\n",
      "      \"min_diff_timestamp\": 0.9999999999998899,\n",
      "    },\n",
      "    \"values\": \n",
      "    {\n",
      "      \"Fp1\": \n",
      "      {\n",
      "        \"avg_value\": -0.0010764970324959825,\n",
      "        \"std_value\": 0.970130025055227,\n",
      "        \"max_value\": 3.274669150219622,\n",
      "        \"min_value\": -3.3086193620216755,\n",
      "        \"sum_value\": -1.0764970324959826,\n",
      "      },\n",
      "      \"Fp2\": \n",
      "      {\n",
      "        \"avg_value\": -0.03683155852581308,\n",
      "        \"std_value\": 0.9906549854005609,\n",
      "        \"max_value\": 3.2085143123981172,\n",
      "        \"min_value\": -3.432276411691736,\n",
      "        \"sum_value\": -36.83155852581308,\n",
      "      },\n",
      "      \"Fz\": \n",
      "      {\n",
      "        \"avg_value\": -0.06733329090021584,\n",
      "        \"std_value\": 0.9864964089135131,\n",
      "        \"max_value\": 3.0055694719922466,\n",
      "        \"min_value\": -3.301828055718552,\n",
      "        \"sum_value\": -67.33329090021584,\n",
      "      },\n",
      "    },\n",
      "  },\n",
      "}\n"
     ]
    }
   ],
   "source": [
    "timeserie_retrieve = await api.timeserie.get({\n",
    "    'source': 'Test.v1',\n",
    "    'measure': 'measure_01',\n",
    "    'channels': ['Fp1', 'Fp2', 'Fz'],\n",
    "    'stats': 'true', \n",
    "})\n",
    "JSON(timeserie_retrieve)"
   ]
  },
  {
   "cell_type": "markdown",
   "id": "e6de6ced-ba6c-4e7f-9061-30283d53e538",
   "metadata": {},
   "source": [
    "1. Call the `get()` method on the `api.timeserie` object using the `await` keyword.\n",
    "2. By using `stats`: `true`, you are requesting basic statistical analysis for the specified channels.\n",
    "3. The method returns a dictionary containing the list of time series data and their details."
   ]
  },
  {
   "cell_type": "markdown",
   "id": "319f1691-8083-45a1-b8cc-d12c207c4b10",
   "metadata": {},
   "source": [
    "### Retrieving time series data\n",
    "\n",
    "In this section, you will learn how to retrieve time series data for selected channels using the TimescaleDB App API. This will enable you to access and analyze data from specific data streams, facilitating targeted insights and informed decision-making in your projects."
   ]
  },
  {
   "cell_type": "code",
   "execution_count": 13,
   "id": "1ff7daf1-80d1-4dbc-a6da-cfe904ae3ff1",
   "metadata": {
    "tags": []
   },
   "outputs": [
    {
     "name": "stdout",
     "output_type": "stream",
     "text": [
      "\n",
      "{\n",
      "  \"count\": 1000,\n",
      "  \"next\": null,\n",
      "  \"previous\": null,\n",
      "  \"results\": \n",
      "  {\n",
      "    \"source\": \"Test.v1\",\n",
      "    \"measure\": \"measure_01\",\n",
      "    \"timestamps\": [\"1970-01-01T00:00:00\", \"1970-01-01T00:00:00.001000\", \"1970-01-01T00:00:00.002000\", \"1970-01-01T00:00:00.003000\", \"1970-01-01T00:00:00.004000\", ...],\n",
      "    \"values\": \n",
      "    {\n",
      "      \"Fp1\": [1.1008123060262813, 0.49040264265909195, -3.3086193620216755, -3.051185264689951, -1.6064451082612488, ...],\n",
      "      \"Fp2\": [1.2909072291699102, -1.2478380216561158, 0.508866017059015, 0.5204656310442357, -0.8572396380477441, ...],\n",
      "      \"F7\": [0.1455125169328357, -2.663800285906495, -0.6121308079519729, 0.24381544785358872, -1.2626513222083096, ...],\n",
      "      \"F3\": [-0.6853034988330345, -0.24567211162835895, -0.1470413631425914, 0.18535539173034957, 0.645508355653393, ...],\n",
      "      \"Fz\": [-0.40206029496854756, 0.7325602195366453, 0.5236269462929463, 0.2919009771951495, -0.5281100442809862, ...],\n",
      "      \"F4\": [1.1802919746113703, -1.6918598192732888, 0.42847660350176103, -0.12143834415160362, 0.0015517728074274375, ...],\n",
      "      \"F8\": [-1.3259001764846132, -0.7587643117201238, 0.9869522131428676, -0.7325329551899139, 0.48837452994263014, ...],\n",
      "    },\n",
      "  },\n",
      "}\n"
     ]
    }
   ],
   "source": [
    "timeserie_generator = await api.timeserie.get({\n",
    "    'source': 'Test.v1',\n",
    "    'measure': 'measure_01',\n",
    "    'channels': ['Fp1','Fp2','F7','F3','Fz','F4','F8']\n",
    "})\n",
    "JSON(timeserie_generator)"
   ]
  },
  {
   "cell_type": "markdown",
   "id": "3310a526-f3b4-43dc-9825-aa19c2f13a88",
   "metadata": {},
   "source": [
    "1. Call the `get()` method on the `api.timeserie` object with a dictionary containing the desired channels and the number of data points to retrieve using the `await` keyword.\n",
    "2. The method returns an asynchronous iterator. Use the `await anext()` function to get the first element of the iterator.\n",
    "3. The method returns a dictionary containing the time series data for the specified channels."
   ]
  },
  {
   "cell_type": "markdown",
   "id": "d55dffbe-a03f-49d1-96d1-4fac8530eaa6",
   "metadata": {
    "tags": []
   },
   "source": [
    "## Pagination and generator feature in the API\n",
    "\n",
    "When the API returns a large number of results, it is often useful to paginate the data to improve the performance and manageability of the response. The API supports pagination and includes a `next` link in the response when there are more results available.\n",
    "\n",
    "When the response includes a `next` link, the API will return a generator that you can use to iterate through the paginated results seamlessly. Using a generator allows you to fetch the subsequent pages of data on-demand, improving the efficiency of your application and reducing the amount of data loaded into memory at once.\n",
    "\n",
    "To use the generator provided by the API, you can use the `anext()` function to retrieve the next result from the generator. Here's an example of how you can use the generator to retrieve paginated results:"
   ]
  },
  {
   "cell_type": "code",
   "execution_count": 14,
   "id": "be64c833-9afd-48fa-a640-e65a558ffe96",
   "metadata": {},
   "outputs": [
    {
     "name": "stdout",
     "output_type": "stream",
     "text": [
      "Page 1: 100 samples\n",
      "Page 2: 100 samples\n",
      "Page 3: 100 samples\n",
      "Page 4: 100 samples\n",
      "Page 5: 100 samples\n",
      "Page 6: 100 samples\n",
      "Page 7: 100 samples\n",
      "Page 8: 100 samples\n",
      "Page 9: 100 samples\n",
      "Page 10: 100 samples\n"
     ]
    }
   ],
   "source": [
    "generator = await api.timeserie.get({\n",
    "    'source': 'Test.v1',\n",
    "    'measure': 'measure_01',\n",
    "    'channels': ['Fp1','Fp2','F7','F3','Fz','F4','F8'],\n",
    "    'page_size': 100,\n",
    "})\n",
    "try:\n",
    "    page = 0\n",
    "    while True:\n",
    "        page += 1\n",
    "        result = await api.next(generator)\n",
    "        print(f\"Page {page}: {len(result['results']['timestamps'])} samples\")\n",
    "        # Process the result\n",
    "except StopAsyncIteration:\n",
    "    pass"
   ]
  },
  {
   "cell_type": "markdown",
   "id": "69ce8230-34d0-4555-9421-17846f43ea95",
   "metadata": {
    "tags": []
   },
   "source": [
    "In this example, the `api.paginated_results.get()` method returns a generator object based on the initial response, which includes the `next` link. The `while` loop iterates through the results, and the generator automatically fetches the next page of data when needed, allowing you to process the paginated data effortlessly. The loop will continue until a `StopIteration` exception is raised, indicating that there are no more results to process."
   ]
  },
  {
   "cell_type": "markdown",
   "id": "d651cd3d-7550-4419-8f20-369af8f0dc5b",
   "metadata": {
    "tags": []
   },
   "source": [
    "## Batch size with POST requests\n",
    "\n",
    "The `POST` request method in the TimeScaleDB RESTful API includes an optional argument called `batch_size`. This argument allows you to specify the number of records you want to process in a single batch when sending data to the API. By adjusting the batch size, you can optimize the performance and efficiency of your data transfer.\n",
    "\n",
    "For instance, you can set the `batch_size` to 4 when posting time series data as follows:"
   ]
  },
  {
   "cell_type": "code",
   "execution_count": 73,
   "id": "180525de-4ab8-449e-897d-a226e5b3a6fc",
   "metadata": {},
   "outputs": [
    {
     "name": "stdout",
     "output_type": "stream",
     "text": [
      "[[\n",
      "    {\n",
      "      \"status\": \"fail\",\n",
      "      \"message\": \"Objects can not be created.\",\n",
      "    }], [\n",
      "    {\n",
      "      \"status\": \"fail\",\n",
      "      \"message\": \"Objects can not be created.\",\n",
      "    }], [\n",
      "    {\n",
      "      \"status\": \"fail\",\n",
      "      \"message\": \"Objects can not be created.\",\n",
      "    }]]\n"
     ]
    }
   ],
   "source": [
    "data1 = data.copy()\n",
    "data1['timestamps'] = (np.array(data1['timestamps']) + 1).tolist()\n",
    "\n",
    "data2 = data.copy()\n",
    "data2['timestamps'] = (np.array(data2['timestamps']) + 2).tolist()\n",
    "\n",
    "data3 = data.copy()\n",
    "data3['timestamps'] = (np.array(data3['timestamps']) + 3).tolist()\n",
    "\n",
    "timeserie_response = await api.timeserie.post([data1, data2, data3], batch_size=1)\n",
    "JSON(timeserie_response)"
   ]
  },
  {
   "cell_type": "markdown",
   "id": "e4eb8406-4e97-4685-b888-3fdf16879167",
   "metadata": {
    "tags": []
   },
   "source": [
    "Upon successful submission, the `timeserie_response` will contain an array of dictionaries, each representing the status of a batch."
   ]
  },
  {
   "cell_type": "markdown",
   "id": "08e99812-35d8-4868-bce3-a7dfbff53670",
   "metadata": {},
   "source": [
    "## Batch size with GET requests (Parallel requests)\n",
    "To handle multiple GET requests simultaneously, you can use parallel requests. This feature helps improve the performance of your API by processing multiple requests at once. Here's an example of how to use the \"Batch size\" functionality with GET requests:"
   ]
  },
  {
   "cell_type": "code",
   "execution_count": 17,
   "id": "104e2ef5-97c2-40b2-88aa-271827821711",
   "metadata": {
    "tags": []
   },
   "outputs": [
    {
     "name": "stdout",
     "output_type": "stream",
     "text": [
      "[\n",
      "  {\n",
      "    \"count\": 1000,\n",
      "    \"next\": \"http://localhost:8000/timescaledbapp/timeserie/?channels=Fp2&measure=measure_01&page=2&page_size=2&source=Test.v1\",\n",
      "    \"previous\": null,\n",
      "    \"results\": \n",
      "    {\n",
      "      \"source\": \"Test.v1\",\n",
      "      \"measure\": \"measure_01\",\n",
      "      \"timestamps\": [\"1970-01-01T00:00:00\", \"1970-01-01T00:00:00.001000\"],\n",
      "      \"values\": \n",
      "      {\n",
      "        \"Fp2\": [1.2909072291699102, -1.2478380216561158],\n",
      "      },\n",
      "    },\n",
      "  }, \n",
      "  {\n",
      "    \"count\": 1000,\n",
      "    \"next\": \"http://localhost:8000/timescaledbapp/timeserie/?channels=Fp2&measure=measure_01&page=3&page_size=2&source=Test.v1\",\n",
      "    \"previous\": \"http://localhost:8000/timescaledbapp/timeserie/?channels=Fp2&measure=measure_01&page_size=2&source=Test.v1\",\n",
      "    \"results\": \n",
      "    {\n",
      "      \"source\": \"Test.v1\",\n",
      "      \"measure\": \"measure_01\",\n",
      "      \"timestamps\": [\"1970-01-01T00:00:00.002000\", \"1970-01-01T00:00:00.003000\"],\n",
      "      \"values\": \n",
      "      {\n",
      "        \"Fp2\": [0.508866017059015, 0.5204656310442357],\n",
      "      },\n",
      "    },\n",
      "  }]\n"
     ]
    }
   ],
   "source": [
    "timeserie = await api.timeserie.get({\n",
    "    'source': 'Test.v1',\n",
    "    'measure': 'measure_01',\n",
    "    'channels': ['Fp2'], \n",
    "    'page_size': 4,\n",
    "    'page': 1,\n",
    "}, batch_size=2)\n",
    "\n",
    "JSON(timeserie)"
   ]
  },
  {
   "cell_type": "markdown",
   "id": "c2b143be-9122-4302-82bc-b26821c6bfa8",
   "metadata": {
    "tags": []
   },
   "source": [
    "## Optional ```time``` formats\n",
    "\n",
    "The `time` argument can be set to \"absolute\", \"relative\", or \"false\". The behavior changes depending on the value provided:\n",
    "\n",
    "1. **absolute**: Returns the time points as absolute datetime values.\n",
    "2. **relative**: Returns the time points as relative values in seconds.\n",
    "3. **false**: Omits the time points from the response."
   ]
  },
  {
   "cell_type": "code",
   "execution_count": 22,
   "id": "ca187ffb-994b-4981-a348-40cf2f20723d",
   "metadata": {
    "tags": []
   },
   "outputs": [
    {
     "name": "stdout",
     "output_type": "stream",
     "text": [
      "\n",
      "{\n",
      "  \"count\": 1000,\n",
      "  \"next\": \"http://localhost:8000/timescaledbapp/timeserie/?channels=Fp2&channels=Fp1&measure=measure_01&page=2&page_size=10&source=Test.v1&timestamps=single+absolute\",\n",
      "  \"previous\": null,\n",
      "  \"results\": \n",
      "  {\n",
      "    \"source\": \"Test.v1\",\n",
      "    \"measure\": \"measure_01\",\n",
      "    \"timestamps\": [\"1970-01-01T00:00:00\", \"1970-01-01T00:00:00.001000\", \"1970-01-01T00:00:00.002000\", \"1970-01-01T00:00:00.003000\", \"1970-01-01T00:00:00.004000\", ...],\n",
      "    \"values\": \n",
      "    {\n",
      "      \"Fp2\": [1.2909072291699102, -1.2478380216561158, 0.508866017059015, 0.5204656310442357, -0.8572396380477441, ...],\n",
      "      \"Fp1\": [1.1008123060262813, 0.49040264265909195, -3.3086193620216755, -3.051185264689951, -1.6064451082612488, ...],\n",
      "    },\n",
      "  },\n",
      "}\n"
     ]
    }
   ],
   "source": [
    "timeserie_generator = await api.timeserie.get({\n",
    "    'source': 'Test.v1',\n",
    "    'measure': 'measure_01',\n",
    "    'channels': ['Fp2', 'Fp1'], \n",
    "    'page_size': 10,\n",
    "    \n",
    "    'timestamps': 'single absolute',\n",
    "})\n",
    "timeserie = await api.next(timeserie_generator)\n",
    "JSON(timeserie)"
   ]
  },
  {
   "cell_type": "code",
   "execution_count": 23,
   "id": "94cea81e-3e5b-4d4e-a4dc-e0c00a470ed2",
   "metadata": {
    "tags": []
   },
   "outputs": [
    {
     "name": "stdout",
     "output_type": "stream",
     "text": [
      "\n",
      "{\n",
      "  \"count\": 1000,\n",
      "  \"next\": \"http://localhost:8000/timescaledbapp/timeserie/?channels=Fp2&measure=measure_01&page=2&page_size=10&source=Test.v1&timestamps=relative\",\n",
      "  \"previous\": null,\n",
      "  \"results\": \n",
      "  {\n",
      "    \"source\": \"Test.v1\",\n",
      "    \"measure\": \"measure_01\",\n",
      "    \"timestamps\": \n",
      "    {\n",
      "      \"Fp2\": [0.0, 1.0, 2.0, 3.0, 4.0, ...],\n",
      "    },\n",
      "    \"values\": \n",
      "    {\n",
      "      \"Fp2\": [1.2909072291699102, -1.2478380216561158, 0.508866017059015, 0.5204656310442357, -0.8572396380477441, ...],\n",
      "    },\n",
      "  },\n",
      "}\n"
     ]
    }
   ],
   "source": [
    "timeserie_generator = await api.timeserie.get({\n",
    "    'source': 'Test.v1',\n",
    "    'measure': 'measure_01',\n",
    "    'channels': ['Fp2'], \n",
    "    'page_size': 10,\n",
    "    \n",
    "    'timestamps': 'relative',\n",
    "})\n",
    "timeserie = await api.next(timeserie_generator)\n",
    "JSON(timeserie)"
   ]
  },
  {
   "cell_type": "code",
   "execution_count": 24,
   "id": "8d0b1247-ca16-4866-94b9-7a5711a9649e",
   "metadata": {
    "tags": []
   },
   "outputs": [
    {
     "name": "stdout",
     "output_type": "stream",
     "text": [
      "\n",
      "{\n",
      "  \"count\": 1000,\n",
      "  \"next\": \"http://localhost:8000/timescaledbapp/timeserie/?channels=Fp2&measure=measure_01&page=2&page_size=10&source=Test.v1&timestamps=false\",\n",
      "  \"previous\": null,\n",
      "  \"results\": \n",
      "  {\n",
      "    \"source\": \"Test.v1\",\n",
      "    \"measure\": \"measure_01\",\n",
      "    \"timestamps\": [],\n",
      "    \"values\": \n",
      "    {\n",
      "      \"Fp2\": [1.2909072291699102, -1.2478380216561158, 0.508866017059015, 0.5204656310442357, -0.8572396380477441, ...],\n",
      "    },\n",
      "  },\n",
      "}\n"
     ]
    }
   ],
   "source": [
    "timeserie_generator = await api.timeserie.get({\n",
    "    'source': 'Test.v1',\n",
    "    'measure': 'measure_01',\n",
    "    'channels': ['Fp2'], \n",
    "    'page_size': 10,\n",
    "    \n",
    "    'timestamps': 'false',\n",
    "})\n",
    "timeserie = await api.next(timeserie_generator)\n",
    "JSON(timeserie)"
   ]
  },
  {
   "cell_type": "markdown",
   "id": "8f4c23d7-5a7d-4b49-a3d5-f81e119465b7",
   "metadata": {},
   "source": [
    "The responses will have different time values depending on the `time` argument used:\n",
    "\n",
    "- With `timestamps='absolute'`, the time points will be absolute datetime values.\n",
    "- With `timestamps='relative'`, the time points will be relative values in seconds.\n",
    "- With `timestamps='false'`, the time points will be omitted from the response.\n",
    "- With `timestamps='single absolute'`, the time points will be absolute datetime values but only in the firts trial, the other ones will be empty.\n",
    "- With `timestamps='single relative'`, the time points will be relative values in seconds but only in the firts trial, the other ones will be empty."
   ]
  },
  {
   "cell_type": "markdown",
   "id": "1961e045-414a-4b83-8213-7599670ab93f",
   "metadata": {},
   "source": [
    "## Utilizing the ```get_data``` function from the Dunderlab API\n",
    "The script below uses the ```get_data``` function from the Dunderlab API to achieve the same goal as the code above. This function simplifies the process of reconstructing the data from the queried trials."
   ]
  },
  {
   "cell_type": "code",
   "execution_count": 21,
   "id": "0fe61aa6-5662-40b6-8081-b76d23769958",
   "metadata": {},
   "outputs": [
    {
     "data": {
      "text/plain": [
       "(2, 100)"
      ]
     },
     "execution_count": 21,
     "metadata": {},
     "output_type": "execute_result"
    }
   ],
   "source": [
    "from dunderlab.api.utils import get_data\n",
    "\n",
    "timeserie_generator = await api.timeserie.get({\n",
    "    'source': 'Test.v1',\n",
    "    'measure': 'measure_01',\n",
    "    'channels': ['Fp1', 'Fp2'], \n",
    "    'page_size': 100,\n",
    "    \n",
    "    'timestamps': 'false',\n",
    "})\n",
    "timeserie = await api.next(timeserie_generator)\n",
    "get_data(timeserie).shape"
   ]
  }
 ],
 "metadata": {
  "kernelspec": {
   "display_name": "Python 3 (ipykernel)",
   "language": "python",
   "name": "python3"
  },
  "language_info": {
   "codemirror_mode": {
    "name": "ipython",
    "version": 3
   },
   "file_extension": ".py",
   "mimetype": "text/x-python",
   "name": "python",
   "nbconvert_exporter": "python",
   "pygments_lexer": "ipython3",
   "version": "3.11.3"
  }
 },
 "nbformat": 4,
 "nbformat_minor": 5
}
