{
 "cells": [
  {
   "cell_type": "code",
   "execution_count": 1,
   "id": "35f40c88-590d-4e35-be43-8489a5ad87a5",
   "metadata": {
    "editable": true,
    "nbsphinx": "hidden",
    "slideshow": {
     "slide_type": ""
    },
    "tags": []
   },
   "outputs": [
    {
     "data": {
      "text/plain": [
       "CompletedProcess(args=\"source /home/yeison/Development/PythonDev/DunderLab/venv311/bin/activate;docker rm timescaledbapp_v2;docker stop timescaledbapp_v2;timescaledbapp_create --name timescaledbapp_v2;djangoship restart;python manage.py migrate timescaledbapp --database='timescaledb'\", returncode=0)"
      ]
     },
     "execution_count": 1,
     "metadata": {},
     "output_type": "execute_result"
    }
   ],
   "source": [
    "import subprocess\n",
    "import nest_asyncio\n",
    "nest_asyncio.apply()\n",
    "\n",
    "import numpy as np\n",
    "from datetime import datetime\n",
    "\n",
    "working_directory = '/home/yeison/Development/PythonDev/DunderLab/django-apps/python-django-timescaledbapp/example'\n",
    "command = \"\\\n",
    "source /home/yeison/Development/PythonDev/DunderLab/venv311/bin/activate;\\\n",
    "docker rm timescaledbapp_v2;\\\n",
    "docker stop timescaledbapp_v2;\\\n",
    "timescaledbapp_create --name timescaledbapp_v2;\\\n",
    "djangoship restart;\\\n",
    "python manage.py migrate timescaledbapp --database='timescaledb'\\\n",
    "\"\n",
    "reset_database = lambda :subprocess.run(command, shell=True, cwd=working_directory, stdout=subprocess.DEVNULL, stderr=subprocess.DEVNULL)\n",
    "reset_database()"
   ]
  },
  {
   "cell_type": "markdown",
   "id": "a00aa807-1238-43b1-aab1-8f18343a8060",
   "metadata": {
    "editable": true,
    "slideshow": {
     "slide_type": ""
    },
    "tags": []
   },
   "source": [
    "# Example Usage: RESTful API\n",
    "\n",
    "In this example, we will show you how to use the `dunderlab.api` library to interact with the RESTful API provided by the TimescaleDB App."
   ]
  },
  {
   "cell_type": "code",
   "execution_count": 2,
   "id": "7200a663-b40b-405c-a412-72102c4c0b3a",
   "metadata": {
    "editable": true,
    "slideshow": {
     "slide_type": ""
    },
    "tags": []
   },
   "outputs": [],
   "source": [
    "from dunderlab.api import aioAPI as API\n",
    "from dunderlab.api.utils import JSON\n",
    "\n",
    "api = API('http://localhost:8000/timescaledbapp/')"
   ]
  },
  {
   "cell_type": "markdown",
   "id": "9620e03a-58d0-4088-b0fa-838a0c40fb4e",
   "metadata": {
    "tags": []
   },
   "source": [
    "1. First, import the `aioAPI` class from the `dunderlab.api` module, and give it an alias `API`.\n",
    "2. Next, create an instance of the `API` class by providing the base URL of the TimescaleDB App RESTful API (in this case, it's `http://localhost:8000/realtimedbapp/`).\n",
    "\n",
    "Now, you have an `api` object that can be used to interact with the TimescaleDB App's RESTful API.\n"
   ]
  },
  {
   "cell_type": "markdown",
   "id": "b0a4e3d4-c975-4f72-b149-35d6e0b29be5",
   "metadata": {
    "tags": []
   },
   "source": [
    "## Fetching available API endpoints\n",
    "\n",
    "In this section, you will learn how to obtain the available API endpoints for the TimescaleDB App. This information will help you understand the different endpoints and their functionalities, enabling you to make the most of the TimescaleDB App API in your projects."
   ]
  },
  {
   "cell_type": "code",
   "execution_count": 3,
   "id": "ddf3b0da-589e-4194-8679-ae744af71f34",
   "metadata": {
    "tags": []
   },
   "outputs": [
    {
     "name": "stdout",
     "output_type": "stream",
     "text": [
      "\n",
      "{\n",
      "  \"source\": \"http://localhost:8000/timescaledbapp/source/\",\n",
      "  \"measure\": \"http://localhost:8000/timescaledbapp/measure/\",\n",
      "  \"channel\": \"http://localhost:8000/timescaledbapp/channel/\",\n",
      "  \"chunk\": \"http://localhost:8000/timescaledbapp/chunk/\",\n",
      "  \"timeserie\": \"http://localhost:8000/timescaledbapp/timeserie/\",\n",
      "}\n"
     ]
    }
   ],
   "source": [
    "endopoints = await api.endpoints()\n",
    "JSON(endopoints)"
   ]
  },
  {
   "cell_type": "markdown",
   "id": "5318ff0c-5fa5-4f88-b82e-36e9c1645778",
   "metadata": {},
   "source": [
    "1. Call the `endpoints()` method on the `api` object using the `await` keyword.\n",
    "2. This method returns a list of available API endpoints for the TimescaleDB App.\n",
    "\n",
    "Make sure to use this snippet within an asynchronous context, such as inside an `async def` function or a Jupyter notebook cell with `!pip install nest_asyncio` and `import nest_asyncio; nest_asyncio.apply()` executed beforehand."
   ]
  },
  {
   "cell_type": "markdown",
   "id": "80501296-dbda-4a0c-a288-db1859b8423a",
   "metadata": {
    "tags": []
   },
   "source": [
    "## Create timeseries environment"
   ]
  },
  {
   "cell_type": "markdown",
   "id": "2be5ef45-f382-4f53-a44a-c3858a36f7f9",
   "metadata": {},
   "source": [
    "### Adding a new data source\n",
    "\n",
    "In this section, you will learn how to add a new data source using the TimescaleDB App API. By following the provided instructions, you can easily integrate new data sources into your projects and enhance their functionality."
   ]
  },
  {
   "cell_type": "code",
   "execution_count": 4,
   "id": "b7c3ea5a-8661-4eab-82a3-3c2ca635ea9d",
   "metadata": {
    "tags": []
   },
   "outputs": [
    {
     "name": "stdout",
     "output_type": "stream",
     "text": [
      "\n",
      "{\n",
      "  \"label\": \"Test.v1\",\n",
      "  \"name\": \"Test Database\",\n",
      "  \"location\": \"Eje Cafetero\",\n",
      "  \"device\": \"None\",\n",
      "  \"protocol\": \"None\",\n",
      "  \"version\": \"0.1\",\n",
      "  \"description\": \"Sample database for TimeScaleDBApp\",\n",
      "  \"created\": \"2023-06-06T03:35:37.433886Z\",\n",
      "}\n"
     ]
    }
   ],
   "source": [
    "source_response = await api.source.post({\n",
    "    'label': 'Test.v1',\n",
    "    'name': 'Test Database',\n",
    "    'location': 'Eje Cafetero',\n",
    "    'device': 'None',\n",
    "    'protocol': 'None',\n",
    "    'version': '0.1',\n",
    "    'description': 'Sample database for TimeScaleDBApp',\n",
    "})\n",
    "\n",
    "JSON(source_response)"
   ]
  },
  {
   "cell_type": "markdown",
   "id": "a128c128-af94-4f22-a86e-a28ea416ed4c",
   "metadata": {
    "tags": []
   },
   "source": [
    "1. Call the `post()` method on the `api.source` object using the `await` keyword.\n",
    "2. Provide a dictionary containing the required information for the new data source:\n",
    "   - `'label'`: A string representing the data source name.\n",
    "   - `'name'`: A string representing the name of the data source.\n",
    "   - `'location'`: A string representing the location of the data source.\n",
    "   - `'device'`: A string representing the device used for the data source.\n",
    "   - `'protocol'`: A string representing the communication protocol used by the data source.\n",
    "   - `'version'`: A string representing the version of the data source.\n",
    "   - `'description'`: \n",
    "\n",
    "Make sure to use this snippet within an asynchronous context, such as inside an `async def` function or a Jupyter notebook cell with `!pip install nest_asyncio` and `import nest_asyncio; nest_asyncio.apply()` executed beforehand."
   ]
  },
  {
   "cell_type": "markdown",
   "id": "67cc89fd-f632-4b00-aea2-2525ccc8a4c2",
   "metadata": {},
   "source": [
    "### Retrieving data sources\n",
    "\n",
    "In this section, you will learn how to retrieve the data sources using the TimescaleDB App API. This will allow you to access and manage the data sources associated with your projects, ensuring efficient data handling and organization."
   ]
  },
  {
   "cell_type": "code",
   "execution_count": 5,
   "id": "54f30780-3522-473e-b45c-f6753f62d832",
   "metadata": {
    "tags": []
   },
   "outputs": [
    {
     "name": "stdout",
     "output_type": "stream",
     "text": [
      "\n",
      "{\n",
      "  \"count\": 1,\n",
      "  \"next\": null,\n",
      "  \"previous\": null,\n",
      "  \"results\": [\n",
      "    {\n",
      "      \"label\": \"Test.v1\",\n",
      "      \"name\": \"Test Database\",\n",
      "      \"location\": \"Eje Cafetero\",\n",
      "      \"device\": \"None\",\n",
      "      \"protocol\": \"None\",\n",
      "      \"version\": \"0.1\",\n",
      "      \"description\": \"Sample database for TimeScaleDBApp\",\n",
      "      \"created\": \"2023-06-06T03:35:37.433886Z\",\n",
      "    }],\n",
      "}\n"
     ]
    }
   ],
   "source": [
    "source_retrieve = await api.source.get()\n",
    "JSON(source_retrieve)"
   ]
  },
  {
   "cell_type": "markdown",
   "id": "96798498-16c7-457a-b271-5438497ba0b4",
   "metadata": {
    "tags": []
   },
   "source": [
    "1. Call the `get()` method on the `api.source` object using the `await` keyword.\n",
    "2. The method returns a dictionary containing the list of data sources and their details."
   ]
  },
  {
   "cell_type": "markdown",
   "id": "6180f15f-77cb-4304-a4ca-c17b507299ac",
   "metadata": {
    "tags": []
   },
   "source": [
    "### Adding a new measurement\n",
    "\n",
    "In this section, you will learn how to add a new measurement using the TimescaleDB App API. This will enable you to expand the scope of your data analysis and easily incorporate new metrics into your projects."
   ]
  },
  {
   "cell_type": "code",
   "execution_count": 6,
   "id": "26e0b569-f4dd-4ee7-b013-29629f69100b",
   "metadata": {
    "tags": []
   },
   "outputs": [
    {
     "name": "stdout",
     "output_type": "stream",
     "text": [
      "\n",
      "{\n",
      "  \"label\": \"measure_01\",\n",
      "  \"name\": \"Measure 01\",\n",
      "  \"description\": \"Simple sinusoidals for 64 channels at different frequencies\",\n",
      "  \"source\": \"Test.v1\",\n",
      "}\n"
     ]
    }
   ],
   "source": [
    "measure_response = await api.measure.post({\n",
    "    'source': 'Test.v1',\n",
    "    'label': 'measure_01',\n",
    "    'name': 'Measure 01',\n",
    "    'description': 'Simple sinusoidals for 64 channels at different frequencies',\n",
    "})\n",
    "\n",
    "JSON(measure_response)"
   ]
  },
  {
   "cell_type": "markdown",
   "id": "6b618e45-1490-469c-85aa-7c01419859e6",
   "metadata": {
    "tags": []
   },
   "source": [
    "1. Call the `post()` method on the `api.measure` object using the `await` keyword.\n",
    "2. Provide a dictionary containing the required information for the new measurement:\n",
    "   - `'source'`: A string representing the data source name, which should match the source added earlier.\n",
    "   - `'label'`: A string representing the short label for the measurement.\n",
    "   - `'name'`: A string representing the full name or description of the measurement.\n",
    "   - `'description'`: "
   ]
  },
  {
   "cell_type": "markdown",
   "id": "b12d1864-f6aa-4202-b5a6-75209fe693db",
   "metadata": {},
   "source": [
    "### Retrieving measurements\n",
    "\n",
    "In this section, you will learn how to retrieve the measurements using the TimescaleDB App API. This will help you access and manage the metrics associated with your projects, ensuring proper data analysis and visualization."
   ]
  },
  {
   "cell_type": "code",
   "execution_count": 7,
   "id": "556a1cfd-f8f2-46b3-97c5-dbcff22f7c3d",
   "metadata": {
    "tags": []
   },
   "outputs": [
    {
     "name": "stdout",
     "output_type": "stream",
     "text": [
      "\n",
      "{\n",
      "  \"count\": 1,\n",
      "  \"next\": null,\n",
      "  \"previous\": null,\n",
      "  \"results\": [\n",
      "    {\n",
      "      \"label\": \"measure_01\",\n",
      "      \"name\": \"Measure 01\",\n",
      "      \"description\": \"Simple sinusoidals for 64 channels at different frequencies\",\n",
      "      \"source\": \"Test.v1\",\n",
      "    }],\n",
      "}\n"
     ]
    }
   ],
   "source": [
    "measure_retrieve = await api.measure.get({\"source\": \"Test.v1\"})\n",
    "JSON(measure_retrieve)"
   ]
  },
  {
   "cell_type": "markdown",
   "id": "4d74ff4b-98c6-4991-984c-ae5a0b4f6b3f",
   "metadata": {},
   "source": [
    "1. Call the `get()` method on the `api.measure` object using the `await` keyword.\n",
    "2. The method returns a dictionary containing the list of measurements and their details."
   ]
  },
  {
   "cell_type": "markdown",
   "id": "a43f72c9-5ffe-405f-845e-ce72bccf5be5",
   "metadata": {
    "tags": []
   },
   "source": [
    "### Adding multiple channels\n",
    "\n",
    "In this section, you will learn how to add multiple channels using the TimescaleDB App API. This will allow you to efficiently manage and organize multiple data streams, improving the overall performance and functionality of your projects."
   ]
  },
  {
   "cell_type": "code",
   "execution_count": 8,
   "id": "7d8e79bd-5638-4882-bc8c-344a19f6be7c",
   "metadata": {
    "scrolled": true,
    "tags": []
   },
   "outputs": [
    {
     "name": "stdout",
     "output_type": "stream",
     "text": [
      "[\n",
      "  {\n",
      "    \"label\": \"Fp1\",\n",
      "    \"name\": \"Channel Fp1\",\n",
      "    \"unit\": \"u\",\n",
      "    \"sampling_rate\": 1000.0,\n",
      "    \"description\": null,\n",
      "    \"measure\": \"measure_01\",\n",
      "    \"source\": \"Test.v1\",\n",
      "  }, \n",
      "  {\n",
      "    \"label\": \"Fp2\",\n",
      "    \"name\": \"Channel Fp2\",\n",
      "    \"unit\": \"u\",\n",
      "    \"sampling_rate\": 1000.0,\n",
      "    \"description\": null,\n",
      "    \"measure\": \"measure_01\",\n",
      "    \"source\": \"Test.v1\",\n",
      "  }, \n",
      "  {\n",
      "    \"label\": \"F7\",\n",
      "    \"name\": \"Channel F7\",\n",
      "    \"unit\": \"u\",\n",
      "    \"sampling_rate\": 1000.0,\n",
      "    \"description\": null,\n",
      "    \"measure\": \"measure_01\",\n",
      "    \"source\": \"Test.v1\",\n",
      "  }, \n",
      "  {\n",
      "    \"label\": \"F3\",\n",
      "    \"name\": \"Channel F3\",\n",
      "    \"unit\": \"u\",\n",
      "    \"sampling_rate\": 1000.0,\n",
      "    \"description\": null,\n",
      "    \"measure\": \"measure_01\",\n",
      "    \"source\": \"Test.v1\",\n",
      "  }, \n",
      "  {\n",
      "    \"label\": \"Fz\",\n",
      "    \"name\": \"Channel Fz\",\n",
      "    \"unit\": \"u\",\n",
      "    \"sampling_rate\": 1000.0,\n",
      "    \"description\": null,\n",
      "    \"measure\": \"measure_01\",\n",
      "    \"source\": \"Test.v1\",\n",
      "  }, ...]\n"
     ]
    }
   ],
   "source": [
    "channels_names = ['Fp1','Fp2','F7','F3','Fz','F4','F8','T7','T8','P7','P3','Pz','P4','P8','O1','O2']\n",
    "\n",
    "channel_response = await api.channel.post([{\n",
    "    'source': 'Test.v1',\n",
    "    'measure': 'measure_01',\n",
    "    'name': f'Channel {channel}',\n",
    "    'label': f'{channel}',\n",
    "    'unit': 'u',\n",
    "    'sampling_rate': '1000',\n",
    "} for channel in channels_names])\n",
    "\n",
    "JSON(channel_response)"
   ]
  },
  {
   "cell_type": "markdown",
   "id": "9486d222-efba-4645-b988-3248b6dbdab6",
   "metadata": {},
   "source": [
    "1. Define a list of channel names (`channels`).\n",
    "2. Call the `post()` method on the `api.channel` object using the `await` keyword.\n",
    "3. Provide a list comprehension that generates a dictionary for each channel containing the required information:\n",
    "   - `'measure'`: A string representing the measurement name, which should match the measurement added earlier (in this case, 'OpenBCI+EEG').\n",
    "   - `'name'`: A string representing the name of the channel.\n",
    "   - `'unit'`: A string representing the unit of measurement for the channel (e.g., 'µv').\n",
    "   - `'sampling_rate'`: A string representing the sample rate for the channel.\n",
    "   - `'label'`: A string representing the label for the channel.\n"
   ]
  },
  {
   "cell_type": "markdown",
   "id": "324abe78-eff5-4002-81ee-aa0d5b41ed3f",
   "metadata": {
    "tags": []
   },
   "source": [
    "### Retrieving channels\n",
    "\n",
    "In this section, you will learn how to retrieve the channels using the TimescaleDB App API. This will enable you to access and manage the data streams associated with your projects, ensuring an organized and efficient data handling process."
   ]
  },
  {
   "cell_type": "code",
   "execution_count": 9,
   "id": "fcc01d95-9107-4593-8afe-3ad157184691",
   "metadata": {
    "tags": []
   },
   "outputs": [
    {
     "name": "stdout",
     "output_type": "stream",
     "text": [
      "\n",
      "{\n",
      "  \"count\": 16,\n",
      "  \"next\": null,\n",
      "  \"previous\": null,\n",
      "  \"results\": [\n",
      "    {\n",
      "      \"label\": \"Fp1\",\n",
      "      \"name\": \"Channel Fp1\",\n",
      "      \"unit\": \"u\",\n",
      "      \"sampling_rate\": 1000.0,\n",
      "      \"description\": null,\n",
      "      \"measure\": \"measure_01\",\n",
      "      \"source\": \"Test.v1\",\n",
      "    }, \n",
      "    {\n",
      "      \"label\": \"Fp2\",\n",
      "      \"name\": \"Channel Fp2\",\n",
      "      \"unit\": \"u\",\n",
      "      \"sampling_rate\": 1000.0,\n",
      "      \"description\": null,\n",
      "      \"measure\": \"measure_01\",\n",
      "      \"source\": \"Test.v1\",\n",
      "    }, \n",
      "    {\n",
      "      \"label\": \"F7\",\n",
      "      \"name\": \"Channel F7\",\n",
      "      \"unit\": \"u\",\n",
      "      \"sampling_rate\": 1000.0,\n",
      "      \"description\": null,\n",
      "      \"measure\": \"measure_01\",\n",
      "      \"source\": \"Test.v1\",\n",
      "    }, \n",
      "    {\n",
      "      \"label\": \"F3\",\n",
      "      \"name\": \"Channel F3\",\n",
      "      \"unit\": \"u\",\n",
      "      \"sampling_rate\": 1000.0,\n",
      "      \"description\": null,\n",
      "      \"measure\": \"measure_01\",\n",
      "      \"source\": \"Test.v1\",\n",
      "    }, \n",
      "    {\n",
      "      \"label\": \"Fz\",\n",
      "      \"name\": \"Channel Fz\",\n",
      "      \"unit\": \"u\",\n",
      "      \"sampling_rate\": 1000.0,\n",
      "      \"description\": null,\n",
      "      \"measure\": \"measure_01\",\n",
      "      \"source\": \"Test.v1\",\n",
      "    }, ...],\n",
      "}\n"
     ]
    }
   ],
   "source": [
    "channel_retrieve = await api.channel.get({'source': 'Test.v1', 'measure': 'measure_01',})\n",
    "JSON(channel_retrieve)"
   ]
  },
  {
   "cell_type": "markdown",
   "id": "6bcfbfe4-102c-4e4d-94f2-f801135c994d",
   "metadata": {},
   "source": [
    "1. Call the `get()` method on the `api.channel` object using the `await` keyword.\n",
    "2. The method returns a dictionary containing the list of channels and their details."
   ]
  },
  {
   "cell_type": "markdown",
   "id": "a9d1d809-394d-42d5-83e8-42cbde7e35e8",
   "metadata": {
    "tags": []
   },
   "source": [
    "### Posting time series data"
   ]
  },
  {
   "cell_type": "markdown",
   "id": "bf78c94c-729f-43b2-9f13-867e8cecc207",
   "metadata": {
    "tags": []
   },
   "source": [
    "#### Generating sample data\n",
    "\n",
    "There are two ways to format data for creating time series. The first method involves specifying the channel name as a field in each data point. The data is organized as follows."
   ]
  },
  {
   "cell_type": "code",
   "execution_count": 10,
   "id": "c9531c3e-18a5-4412-bf2a-874c080e965d",
   "metadata": {},
   "outputs": [
    {
     "name": "stdout",
     "output_type": "stream",
     "text": [
      "\n",
      "{\n",
      "  \"source\": \"Test.v1\",\n",
      "  \"measure\": \"measure_01\",\n",
      "  \"timestamps\": [0.0, 0.001, 0.002, 0.003, 0.004, ...],\n",
      "  \"values\": \n",
      "  {\n",
      "    \"Fp1\": [-0.47464229711502637, 0.031071325033017943, 2.0700701632365517, 0.0054152579722638395, -0.3330140598710594, ...],\n",
      "    \"Fp2\": [-1.092309528154484, 0.7249453845174528, 1.2776102591989291, -0.19140292571008752, 0.7909248988076788, ...],\n",
      "    \"F7\": [1.2306367236819338, -0.15281377117128997, -0.14193021736066988, -1.2227404432877238, 1.0025452628070408, ...],\n",
      "    \"F3\": [-0.21206689199087647, -1.3564356511054168, 0.4483766110893218, -0.33389385957718326, -0.8012170287056918, ...],\n",
      "    \"Fz\": [-0.3562679804917582, 0.29210538469016667, -1.0232943937950838, 0.20347663638528585, 0.31084435922077197, ...],\n",
      "    \"F4\": [-0.3221487801728274, 0.9841076837879185, 0.6317921705815928, 0.7846184781209415, -0.3418415843702201, ...],\n",
      "    \"F8\": [-0.5560237905686976, -0.04117838203451378, 0.3947374956371159, -0.2571225375954233, -0.1993450141066531, ...],\n",
      "    \"T7\": [0.5437311898741498, 1.41483497910768, -0.09044086710017087, 0.035332630391184644, 0.2279049338725827, ...],\n",
      "    \"T8\": [0.38761735622786186, 0.6985618119644776, 0.4019608058955696, -1.0706996608536086, 1.2877981676087498, ...],\n",
      "    \"P7\": [-0.5522743276854554, -0.793137494050909, -0.5221838051489184, -2.042793177615825, -0.688562705599109, ...],\n",
      "    \"P3\": [0.552684590565368, 1.5414779642171121, -0.7209232193993218, 1.0456433206408278, 1.2308591131139996, ...],\n",
      "    \"Pz\": [1.1890524295557354, 1.2760965538502085, 0.9883257418790029, -0.5392353021793381, 0.15271045542179895, ...],\n",
      "    \"P4\": [1.019234313457452, 2.655075591396353, -1.0180396229446766, -0.3693473709744608, 0.36630010766089316, ...],\n",
      "    \"P8\": [0.6956473958365609, -0.45009543106287825, 1.399437799916011, 0.25671889829105304, 0.5323622037915635, ...],\n",
      "    \"O1\": [-0.5840442662701155, -2.4368723678349005, -0.8549914680570921, 0.6212381066641154, 0.9296960970088335, ...],\n",
      "    \"O2\": [0.759027142005416, -1.0913797866182442, -0.7919701089440294, -0.8830045249195122, -2.6913231462522593, ...],\n",
      "  },\n",
      "}\n"
     ]
    }
   ],
   "source": [
    "samples = 1000\n",
    "timestamps = np.linspace(0, 1, samples, endpoint=False).tolist()\n",
    "values = np.random.normal(size=(16, samples)).tolist()\n",
    "\n",
    "data = {\n",
    "    'source': 'Test.v1',\n",
    "    'measure': 'measure_01',\n",
    "    'timestamps': timestamps,\n",
    "    'values': {ch: v for ch, v in zip(channels_names, values)}\n",
    "}\n",
    "\n",
    "JSON(data)"
   ]
  },
  {
   "cell_type": "code",
   "execution_count": 11,
   "id": "b66f2699-84a1-4983-8f23-163f677a6fbf",
   "metadata": {
    "tags": []
   },
   "outputs": [
    {
     "name": "stdout",
     "output_type": "stream",
     "text": [
      "\n",
      "{\n",
      "  \"status\": \"success\",\n",
      "  \"message\": \"Your data has been successfully saved.\",\n",
      "  \"objects_created\": 16000,\n",
      "}\n"
     ]
    }
   ],
   "source": [
    "timeserie_response = await api.timeserie.post(data)\n",
    "JSON(timeserie_response)"
   ]
  },
  {
   "cell_type": "code",
   "execution_count": 12,
   "id": "24020eec-bdcd-4534-aa3a-4169a5491b72",
   "metadata": {},
   "outputs": [
    {
     "name": "stdout",
     "output_type": "stream",
     "text": [
      "\n",
      "{\n",
      "  \"status\": \"success\",\n",
      "  \"message\": \"Your data has been successfully saved.\",\n",
      "  \"objects_created\": 1600,\n",
      "}\n"
     ]
    }
   ],
   "source": [
    "samples = 100\n",
    "timestamps = (np.linspace(0, 1, samples, endpoint=False)+29000).tolist()\n",
    "values = np.random.normal(size=(16, samples)).tolist()\n",
    "\n",
    "data = {\n",
    "    'source': 'Test.v1',\n",
    "    'measure': 'measure_01',\n",
    "    'timestamps': timestamps,\n",
    "    'values': {ch: v for ch, v in zip(channels_names, values)}\n",
    "}\n",
    "\n",
    "timeserie_response = await api.timeserie.post(data)\n",
    "JSON(timeserie_response)"
   ]
  },
  {
   "cell_type": "markdown",
   "id": "8fd3043a-9907-414d-a3de-d1cece1dbf01",
   "metadata": {},
   "source": [
    "1. Call the `post()` method on the `api.timeserie` object using the `await` keyword.\n",
    "2. Provide the generated `data` list as the first argument."
   ]
  },
  {
   "cell_type": "markdown",
   "id": "e5a3d509-3e65-4420-9b29-bfedb9b40128",
   "metadata": {
    "tags": []
   },
   "source": [
    "### Retrieving time series statistical data\n",
    "\n",
    "In this section, you will learn how to retrieve the statistical data of the time series using the TimescaleDB App API. This will allow you to analyze and visualize key metrics and patterns in your data, enhancing your project's overall data-driven insights."
   ]
  },
  {
   "cell_type": "code",
   "execution_count": 15,
   "id": "c1678391-3822-4a28-861a-439a12470009",
   "metadata": {
    "tags": []
   },
   "outputs": [
    {
     "name": "stdout",
     "output_type": "stream",
     "text": [
      "\n",
      "{\n",
      "  \"count\": 1100,\n",
      "  \"next\": \"http://localhost:8000/timescaledbapp/timeserie/?channels=Fp1&channels=Fp2&channels=Fz&measure=measure_01&page=2&source=Test.v1&stats=true\",\n",
      "  \"previous\": null,\n",
      "  \"results\": \n",
      "  {\n",
      "    \"source\": \"Test.v1\",\n",
      "    \"measure\": \"measure_01\",\n",
      "    \"timestamps\": \n",
      "    {\n",
      "      \"tmin\": 0.0,\n",
      "      \"tmax\": 29000.23,\n",
      "      \"duration\": 29000.23,\n",
      "      \"avg_diff_timestamp\": 28348.22091886608,\n",
      "      \"std_diff_timestamp\": 906218.3107073875,\n",
      "      \"max_diff_timestamp\": 28999001.0,\n",
      "      \"min_diff_timestamp\": 0.9999999999998899,\n",
      "    },\n",
      "    \"values\": \n",
      "    {\n",
      "      \"Fp1\": \n",
      "      {\n",
      "        \"avg_value\": -0.009907183971625055,\n",
      "        \"std_value\": 0.9860983610394616,\n",
      "        \"max_value\": 3.498913645151125,\n",
      "        \"min_value\": -3.2402627315546693,\n",
      "        \"sum_value\": -10.144956386944056,\n",
      "      },\n",
      "      \"Fp2\": \n",
      "      {\n",
      "        \"avg_value\": 0.012098385719665025,\n",
      "        \"std_value\": 0.992637352677038,\n",
      "        \"max_value\": 3.5290769683332686,\n",
      "        \"min_value\": -3.139184901241212,\n",
      "        \"sum_value\": 12.388746976936986,\n",
      "      },\n",
      "      \"Fz\": \n",
      "      {\n",
      "        \"avg_value\": 0.012601135036409049,\n",
      "        \"std_value\": 1.0282572934548895,\n",
      "        \"max_value\": 3.8777852164816697,\n",
      "        \"min_value\": -3.368379029986831,\n",
      "        \"sum_value\": 12.903562277282866,\n",
      "      },\n",
      "    },\n",
      "  },\n",
      "}\n"
     ]
    }
   ],
   "source": [
    "timeserie_retrieve = await api.timeserie.get({\n",
    "    'source': 'Test.v1',\n",
    "    'measure': 'measure_01',\n",
    "    'channels': ['Fp1', 'Fp2', 'Fz'],\n",
    "    'stats': 'true', \n",
    "})\n",
    "JSON(await api.next(timeserie_retrieve))"
   ]
  },
  {
   "cell_type": "markdown",
   "id": "e6de6ced-ba6c-4e7f-9061-30283d53e538",
   "metadata": {},
   "source": [
    "1. Call the `get()` method on the `api.timeserie` object using the `await` keyword.\n",
    "2. By using `stats`: `true`, you are requesting basic statistical analysis for the specified channels.\n",
    "3. The method returns a dictionary containing the list of time series data and their details."
   ]
  },
  {
   "cell_type": "markdown",
   "id": "319f1691-8083-45a1-b8cc-d12c207c4b10",
   "metadata": {},
   "source": [
    "### Retrieving time series data\n",
    "\n",
    "In this section, you will learn how to retrieve time series data for selected channels using the TimescaleDB App API. This will enable you to access and analyze data from specific data streams, facilitating targeted insights and informed decision-making in your projects."
   ]
  },
  {
   "cell_type": "code",
   "execution_count": 17,
   "id": "1ff7daf1-80d1-4dbc-a6da-cfe904ae3ff1",
   "metadata": {
    "tags": []
   },
   "outputs": [
    {
     "name": "stdout",
     "output_type": "stream",
     "text": [
      "\n",
      "{\n",
      "  \"count\": 1100,\n",
      "  \"next\": null,\n",
      "  \"previous\": \"http://localhost:8000/timescaledbapp/timeserie/?channels=Fp1&channels=Fp2&channels=Fz&measure=measure_01&source=Test.v1&stats=true\",\n",
      "  \"results\": \n",
      "  {\n",
      "    \"source\": \"Test.v1\",\n",
      "    \"measure\": \"measure_01\",\n",
      "    \"timestamps\": \n",
      "    {\n",
      "      \"tmin\": 29000.24,\n",
      "      \"tmax\": 29000.99,\n",
      "      \"duration\": 0.75,\n",
      "      \"avg_diff_timestamp\": 10.0,\n",
      "      \"std_diff_timestamp\": 1.8058451890815834e-09,\n",
      "      \"max_diff_timestamp\": 10.000000002037268,\n",
      "      \"min_diff_timestamp\": 9.99999999839929,\n",
      "    },\n",
      "    \"values\": \n",
      "    {\n",
      "      \"Fp1\": \n",
      "      {\n",
      "        \"avg_value\": 0.04374348279086147,\n",
      "        \"std_value\": 0.8804272069369872,\n",
      "        \"max_value\": 2.112510258690322,\n",
      "        \"min_value\": -2.9877138702799413,\n",
      "        \"sum_value\": 3.3245046921054717,\n",
      "      },\n",
      "      \"Fp2\": \n",
      "      {\n",
      "        \"avg_value\": -0.16318070231040213,\n",
      "        \"std_value\": 0.9346925853438217,\n",
      "        \"max_value\": 1.9145623979520265,\n",
      "        \"min_value\": -2.194910470072594,\n",
      "        \"sum_value\": -12.401733375590561,\n",
      "      },\n",
      "      \"Fz\": \n",
      "      {\n",
      "        \"avg_value\": -0.11246219914603968,\n",
      "        \"std_value\": 1.0810192141859458,\n",
      "        \"max_value\": 2.594199097822101,\n",
      "        \"min_value\": -2.62812731500306,\n",
      "        \"sum_value\": -8.547127135099016,\n",
      "      },\n",
      "    },\n",
      "  },\n",
      "}\n"
     ]
    }
   ],
   "source": [
    "timeserie_generator = await api.timeserie.get({\n",
    "    'source': 'Test.v1',\n",
    "    'measure': 'measure_01',\n",
    "    'channels': ['Fp1','Fp2','F7','F3','Fz','F4','F8']\n",
    "})\n",
    "\n",
    "JSON(await api.next(timeserie_retrieve))"
   ]
  },
  {
   "cell_type": "markdown",
   "id": "3310a526-f3b4-43dc-9825-aa19c2f13a88",
   "metadata": {},
   "source": [
    "1. Call the `get()` method on the `api.timeserie` object with a dictionary containing the desired channels and the number of data points to retrieve using the `await` keyword.\n",
    "2. The method returns an asynchronous iterator. Use the `await anext()` function to get the first element of the iterator.\n",
    "3. The method returns a dictionary containing the time series data for the specified channels."
   ]
  },
  {
   "cell_type": "markdown",
   "id": "d55dffbe-a03f-49d1-96d1-4fac8530eaa6",
   "metadata": {
    "tags": []
   },
   "source": [
    "## Pagination and generator feature in the API\n",
    "\n",
    "When the API returns a large number of results, it is often useful to paginate the data to improve the performance and manageability of the response. The API supports pagination and includes a `next` link in the response when there are more results available.\n",
    "\n",
    "When the response includes a `next` link, the API will return a generator that you can use to iterate through the paginated results seamlessly. Using a generator allows you to fetch the subsequent pages of data on-demand, improving the efficiency of your application and reducing the amount of data loaded into memory at once.\n",
    "\n",
    "To use the generator provided by the API, you can use the `anext()` function to retrieve the next result from the generator. Here's an example of how you can use the generator to retrieve paginated results:"
   ]
  },
  {
   "cell_type": "code",
   "execution_count": 18,
   "id": "be64c833-9afd-48fa-a640-e65a558ffe96",
   "metadata": {},
   "outputs": [
    {
     "name": "stdout",
     "output_type": "stream",
     "text": [
      "Page 1: 100 samples\n",
      "Page 2: 100 samples\n",
      "Page 3: 100 samples\n",
      "Page 4: 100 samples\n",
      "Page 5: 100 samples\n",
      "Page 6: 100 samples\n",
      "Page 7: 100 samples\n",
      "Page 8: 100 samples\n",
      "Page 9: 100 samples\n",
      "Page 10: 100 samples\n",
      "Page 11: 100 samples\n"
     ]
    }
   ],
   "source": [
    "generator = await api.timeserie.get({\n",
    "    'source': 'Test.v1',\n",
    "    'measure': 'measure_01',\n",
    "    'channels': ['Fp1','Fp2','F7','F3','Fz','F4','F8'],\n",
    "    'page_size': 100,\n",
    "})\n",
    "try:\n",
    "    page = 0\n",
    "    while True:\n",
    "        page += 1\n",
    "        result = await api.next(generator)\n",
    "        print(f\"Page {page}: {len(result['results']['timestamps'])} samples\")\n",
    "        # Process the result\n",
    "except StopAsyncIteration:\n",
    "    pass"
   ]
  },
  {
   "cell_type": "markdown",
   "id": "69ce8230-34d0-4555-9421-17846f43ea95",
   "metadata": {
    "tags": []
   },
   "source": [
    "In this example, the `api.paginated_results.get()` method returns a generator object based on the initial response, which includes the `next` link. The `while` loop iterates through the results, and the generator automatically fetches the next page of data when needed, allowing you to process the paginated data effortlessly. The loop will continue until a `StopIteration` exception is raised, indicating that there are no more results to process."
   ]
  },
  {
   "cell_type": "markdown",
   "id": "d651cd3d-7550-4419-8f20-369af8f0dc5b",
   "metadata": {
    "tags": []
   },
   "source": [
    "## Batch size with POST requests\n",
    "\n",
    "The `POST` request method in the TimeScaleDB RESTful API includes an optional argument called `batch_size`. This argument allows you to specify the number of records you want to process in a single batch when sending data to the API. By adjusting the batch size, you can optimize the performance and efficiency of your data transfer.\n",
    "\n",
    "For instance, you can set the `batch_size` to 4 when posting time series data as follows:"
   ]
  },
  {
   "cell_type": "code",
   "execution_count": 19,
   "id": "180525de-4ab8-449e-897d-a226e5b3a6fc",
   "metadata": {},
   "outputs": [
    {
     "name": "stdout",
     "output_type": "stream",
     "text": [
      "[[\n",
      "    {\n",
      "      \"status\": \"success\",\n",
      "      \"message\": \"Your data has been successfully saved.\",\n",
      "      \"objects_created\": 1600,\n",
      "    }], [\n",
      "    {\n",
      "      \"status\": \"success\",\n",
      "      \"message\": \"Your data has been successfully saved.\",\n",
      "      \"objects_created\": 1600,\n",
      "    }], [\n",
      "    {\n",
      "      \"status\": \"success\",\n",
      "      \"message\": \"Your data has been successfully saved.\",\n",
      "      \"objects_created\": 1600,\n",
      "    }]]\n"
     ]
    }
   ],
   "source": [
    "data1 = data.copy()\n",
    "data1['timestamps'] = (np.array(data1['timestamps']) + 1).tolist()\n",
    "\n",
    "data2 = data.copy()\n",
    "data2['timestamps'] = (np.array(data2['timestamps']) + 2).tolist()\n",
    "\n",
    "data3 = data.copy()\n",
    "data3['timestamps'] = (np.array(data3['timestamps']) + 3).tolist()\n",
    "\n",
    "timeserie_response = await api.timeserie.post([data1, data2, data3], batch_size=1)\n",
    "JSON(timeserie_response)"
   ]
  },
  {
   "cell_type": "markdown",
   "id": "e4eb8406-4e97-4685-b888-3fdf16879167",
   "metadata": {
    "tags": []
   },
   "source": [
    "Upon successful submission, the `timeserie_response` will contain an array of dictionaries, each representing the status of a batch."
   ]
  },
  {
   "cell_type": "markdown",
   "id": "08e99812-35d8-4868-bce3-a7dfbff53670",
   "metadata": {},
   "source": [
    "## Batch size with GET requests (Parallel requests)\n",
    "To handle multiple GET requests simultaneously, you can use parallel requests. This feature helps improve the performance of your API by processing multiple requests at once. Here's an example of how to use the \"Batch size\" functionality with GET requests:"
   ]
  },
  {
   "cell_type": "code",
   "execution_count": 20,
   "id": "104e2ef5-97c2-40b2-88aa-271827821711",
   "metadata": {
    "tags": []
   },
   "outputs": [
    {
     "name": "stdout",
     "output_type": "stream",
     "text": [
      "[\n",
      "  {\n",
      "    \"count\": 1200,\n",
      "    \"next\": \"http://localhost:8000/timescaledbapp/timeserie/?channels=Fp2&measure=measure_01&page=2&page_size=2&source=Test.v1\",\n",
      "    \"previous\": null,\n",
      "    \"results\": \n",
      "    {\n",
      "      \"source\": \"Test.v1\",\n",
      "      \"measure\": \"measure_01\",\n",
      "      \"timestamps\": [\"1970-01-01T00:00:00\", \"1970-01-01T00:00:00.001000\"],\n",
      "      \"values\": \n",
      "      {\n",
      "        \"Fp2\": [-1.092309528154484, 0.7249453845174528],\n",
      "      },\n",
      "    },\n",
      "  }, \n",
      "  {\n",
      "    \"count\": 1200,\n",
      "    \"next\": \"http://localhost:8000/timescaledbapp/timeserie/?channels=Fp2&measure=measure_01&page=3&page_size=2&source=Test.v1\",\n",
      "    \"previous\": \"http://localhost:8000/timescaledbapp/timeserie/?channels=Fp2&measure=measure_01&page_size=2&source=Test.v1\",\n",
      "    \"results\": \n",
      "    {\n",
      "      \"source\": \"Test.v1\",\n",
      "      \"measure\": \"measure_01\",\n",
      "      \"timestamps\": [\"1970-01-01T00:00:00.002000\", \"1970-01-01T00:00:00.003000\"],\n",
      "      \"values\": \n",
      "      {\n",
      "        \"Fp2\": [1.2776102591989291, -0.19140292571008752],\n",
      "      },\n",
      "    },\n",
      "  }]\n"
     ]
    }
   ],
   "source": [
    "timeserie = await api.timeserie.get({\n",
    "    'source': 'Test.v1',\n",
    "    'measure': 'measure_01',\n",
    "    'channels': ['Fp2'], \n",
    "    'page_size': 4,\n",
    "    'page': 1,\n",
    "}, batch_size=2)\n",
    "\n",
    "JSON(timeserie)"
   ]
  },
  {
   "cell_type": "markdown",
   "id": "c2b143be-9122-4302-82bc-b26821c6bfa8",
   "metadata": {
    "tags": []
   },
   "source": [
    "## Optional ```time``` formats\n",
    "\n",
    "The `time` argument can be set to \"absolute\", \"relative\", or \"false\". The behavior changes depending on the value provided:\n",
    "\n",
    "1. **absolute**: Returns the time points as absolute datetime values.\n",
    "2. **relative**: Returns the time points as relative values in seconds.\n",
    "3. **false**: Omits the time points from the response."
   ]
  },
  {
   "cell_type": "code",
   "execution_count": 21,
   "id": "ca187ffb-994b-4981-a348-40cf2f20723d",
   "metadata": {
    "tags": []
   },
   "outputs": [
    {
     "name": "stdout",
     "output_type": "stream",
     "text": [
      "\n",
      "{\n",
      "  \"count\": 1200,\n",
      "  \"next\": \"http://localhost:8000/timescaledbapp/timeserie/?channels=Fp2&channels=Fp1&measure=measure_01&page=2&page_size=10&source=Test.v1&timestamps=single+absolute\",\n",
      "  \"previous\": null,\n",
      "  \"results\": \n",
      "  {\n",
      "    \"source\": \"Test.v1\",\n",
      "    \"measure\": \"measure_01\",\n",
      "    \"timestamps\": [\"1970-01-01T00:00:00\", \"1970-01-01T00:00:00.001000\", \"1970-01-01T00:00:00.002000\", \"1970-01-01T00:00:00.003000\", \"1970-01-01T00:00:00.004000\", ...],\n",
      "    \"values\": \n",
      "    {\n",
      "      \"Fp2\": [-1.092309528154484, 0.7249453845174528, 1.2776102591989291, -0.19140292571008752, 0.7909248988076788, ...],\n",
      "      \"Fp1\": [-0.47464229711502637, 0.031071325033017943, 2.0700701632365517, 0.0054152579722638395, -0.3330140598710594, ...],\n",
      "    },\n",
      "  },\n",
      "}\n"
     ]
    }
   ],
   "source": [
    "timeserie_generator = await api.timeserie.get({\n",
    "    'source': 'Test.v1',\n",
    "    'measure': 'measure_01',\n",
    "    'channels': ['Fp2', 'Fp1'], \n",
    "    'page_size': 10,\n",
    "    \n",
    "    'timestamps': 'single absolute',\n",
    "})\n",
    "timeserie = await api.next(timeserie_generator)\n",
    "JSON(timeserie)"
   ]
  },
  {
   "cell_type": "code",
   "execution_count": 22,
   "id": "94cea81e-3e5b-4d4e-a4dc-e0c00a470ed2",
   "metadata": {
    "tags": []
   },
   "outputs": [
    {
     "name": "stdout",
     "output_type": "stream",
     "text": [
      "\n",
      "{\n",
      "  \"count\": 1200,\n",
      "  \"next\": \"http://localhost:8000/timescaledbapp/timeserie/?channels=Fp2&measure=measure_01&page=2&page_size=10&source=Test.v1&timestamps=relative\",\n",
      "  \"previous\": null,\n",
      "  \"results\": \n",
      "  {\n",
      "    \"source\": \"Test.v1\",\n",
      "    \"measure\": \"measure_01\",\n",
      "    \"timestamps\": \n",
      "    {\n",
      "      \"Fp2\": [0.0, 1.0, 2.0, 3.0, 4.0, ...],\n",
      "    },\n",
      "    \"values\": \n",
      "    {\n",
      "      \"Fp2\": [-1.092309528154484, 0.7249453845174528, 1.2776102591989291, -0.19140292571008752, 0.7909248988076788, ...],\n",
      "    },\n",
      "  },\n",
      "}\n"
     ]
    }
   ],
   "source": [
    "timeserie_generator = await api.timeserie.get({\n",
    "    'source': 'Test.v1',\n",
    "    'measure': 'measure_01',\n",
    "    'channels': ['Fp2'], \n",
    "    'page_size': 10,\n",
    "    \n",
    "    'timestamps': 'relative',\n",
    "})\n",
    "timeserie = await api.next(timeserie_generator)\n",
    "JSON(timeserie)"
   ]
  },
  {
   "cell_type": "code",
   "execution_count": 23,
   "id": "8d0b1247-ca16-4866-94b9-7a5711a9649e",
   "metadata": {
    "tags": []
   },
   "outputs": [
    {
     "name": "stdout",
     "output_type": "stream",
     "text": [
      "\n",
      "{\n",
      "  \"count\": 1200,\n",
      "  \"next\": \"http://localhost:8000/timescaledbapp/timeserie/?channels=Fp2&measure=measure_01&page=2&page_size=10&source=Test.v1&timestamps=false\",\n",
      "  \"previous\": null,\n",
      "  \"results\": \n",
      "  {\n",
      "    \"source\": \"Test.v1\",\n",
      "    \"measure\": \"measure_01\",\n",
      "    \"timestamps\": [],\n",
      "    \"values\": \n",
      "    {\n",
      "      \"Fp2\": [-1.092309528154484, 0.7249453845174528, 1.2776102591989291, -0.19140292571008752, 0.7909248988076788, ...],\n",
      "    },\n",
      "  },\n",
      "}\n"
     ]
    }
   ],
   "source": [
    "timeserie_generator = await api.timeserie.get({\n",
    "    'source': 'Test.v1',\n",
    "    'measure': 'measure_01',\n",
    "    'channels': ['Fp2'], \n",
    "    'page_size': 10,\n",
    "    \n",
    "    'timestamps': 'false',\n",
    "})\n",
    "timeserie = await api.next(timeserie_generator)\n",
    "JSON(timeserie)"
   ]
  },
  {
   "cell_type": "markdown",
   "id": "8f4c23d7-5a7d-4b49-a3d5-f81e119465b7",
   "metadata": {},
   "source": [
    "The responses will have different time values depending on the `time` argument used:\n",
    "\n",
    "- With `timestamps='absolute'`, the time points will be absolute datetime values.\n",
    "- With `timestamps='relative'`, the time points will be relative values in seconds.\n",
    "- With `timestamps='false'`, the time points will be omitted from the response.\n",
    "- With `timestamps='single absolute'`, the time points will be absolute datetime values but only in the firts trial, the other ones will be empty.\n",
    "- With `timestamps='single relative'`, the time points will be relative values in seconds but only in the firts trial, the other ones will be empty."
   ]
  },
  {
   "cell_type": "markdown",
   "id": "1961e045-414a-4b83-8213-7599670ab93f",
   "metadata": {},
   "source": [
    "## Utilizing the ```get_data``` function from the Dunderlab API\n",
    "The script below uses the ```get_data``` function from the Dunderlab API to achieve the same goal as the code above. This function simplifies the process of reconstructing the data from the queried trials."
   ]
  },
  {
   "cell_type": "code",
   "execution_count": 24,
   "id": "0fe61aa6-5662-40b6-8081-b76d23769958",
   "metadata": {},
   "outputs": [
    {
     "data": {
      "text/plain": [
       "(2, 100)"
      ]
     },
     "execution_count": 24,
     "metadata": {},
     "output_type": "execute_result"
    }
   ],
   "source": [
    "from dunderlab.api.utils import get_data\n",
    "\n",
    "timeserie_generator = await api.timeserie.get({\n",
    "    'source': 'Test.v1',\n",
    "    'measure': 'measure_01',\n",
    "    'channels': ['Fp1', 'Fp2'], \n",
    "    'page_size': 100,\n",
    "    \n",
    "    'timestamps': 'false',\n",
    "})\n",
    "timeserie = await api.next(timeserie_generator)\n",
    "get_data(timeserie).shape"
   ]
  },
  {
   "cell_type": "code",
   "execution_count": null,
   "id": "aacf74eb-9907-434a-b990-007957413fa3",
   "metadata": {},
   "outputs": [],
   "source": []
  }
 ],
 "metadata": {
  "kernelspec": {
   "display_name": "Python 3 (ipykernel)",
   "language": "python",
   "name": "python3"
  },
  "language_info": {
   "codemirror_mode": {
    "name": "ipython",
    "version": 3
   },
   "file_extension": ".py",
   "mimetype": "text/x-python",
   "name": "python",
   "nbconvert_exporter": "python",
   "pygments_lexer": "ipython3",
   "version": "3.11.3"
  }
 },
 "nbformat": 4,
 "nbformat_minor": 5
}
