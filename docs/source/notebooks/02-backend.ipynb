{
 "cells": [
  {
   "cell_type": "markdown",
   "id": "73d51000-65b6-4263-ba5a-d1d0e438302f",
   "metadata": {},
   "source": [
    "# Django REST Framework implementation\n",
    "\n",
    "This report provides an overview of the Time Series API implementation, which manages data related to sources, measures, channels, and time series. The API is built using the Django REST framework and follows a typical structure for a Django application."
   ]
  },
  {
   "cell_type": "markdown",
   "id": "aacc12cd-d0b2-4516-86cb-7297fdf7981d",
   "metadata": {},
   "source": [
    "## Data Models\n",
    "\n",
    "The TimeScaleDB App API interacts primarily with five models:\n",
    "\n",
    "1. **Source**: This model represents a source of measures. Each source has a unique ID, name, location, device, protocol, version, description, and a timestamp indicating when it was created.\n",
    "\n",
    "2. **Measure**: The Measure model represents a specific measure made by a source. Each measure has a label, name, description, and a reference to its source. A source can have multiple measures.\n",
    "\n",
    "3. **Channel**: This model represents a specific channel of a measure. Each channel has a label, name, unit, sampling rate, description, count, and a reference to its measure. A measure can have multiple channels.\n",
    "\n",
    "4. **Chunk**: The Chunk model represents a specific chunk of a measure. Each chunk has a label and a reference to its measure. A measure can have multiple chunks.\n",
    "\n",
    "5. **TimeSerie**: This model represents a time series of data. Each record in the time series has a timestamp, a value, and references to a channel and a chunk.\n",
    "\n",
    "Each of these models corresponds to a table in the database, and each attribute of a model corresponds to a field in the table. The relationships between the models (such as the ForeignKey fields) represent database relationships (such as foreign key constraints).\n"
   ]
  },
  {
   "cell_type": "markdown",
   "id": "9a7df0f6-ec8a-4b82-9f88-f619b626ea5e",
   "metadata": {},
   "source": [
    "## Serializers\n",
    "\n",
    "Serializers are used to convert complex data types, such as Django models, into Python data types that can be rendered into JSON or other content types. The API has seven serializers:\n",
    "\n",
    "1. **SourceSerializer**: Serializes the Source model.\n",
    "2. **MeasureSerializer**: Serializes the Measure model, including the creation of new Measure instances.\n",
    "3. **ChannelSerializer**: Serializes the Channel model, including the creation of new Channel instances.\n",
    "4. **ChunkSerializer**: Serializes the Chunk model, including the creation of new Chunk instances.\n",
    "5. **DictOrListField**: Is a custom serializer field that can serialize both lists and dictionaries.\n",
    "6. **TimestampField**: Is a custom serializer field for timestamps. If the input is a float, it converts it to a datetime iso format string.\n",
    "7. **TimeserieSerializer**: Serializes the TimeSerie model, including the creation of new TimeSerie instances.\n",
    "\n",
    "Each of these classes and functions plays a critical role in handling API request and response data in the Timescaledbapp application.\n",
    "\n",
    "Moreover, this module also includes a helper function, **insert_batch**, which allows to perform bulk create operation for a given model with a specified batch size. The default batch size is 1000.\n"
   ]
  },
  {
   "cell_type": "markdown",
   "id": "d8783af2-19b0-4ab4-bc5a-c545ab8543a7",
   "metadata": {},
   "source": [
    "## Views\n",
    "\n",
    "The API has five primary viewsets, one for each model:\n",
    "\n",
    "1. **CustomCreateViewSet**: This is a base ViewSet to support custom create actions for models. The `create` method of this class uses the respective model's serializer to create new instances of the model.\n",
    "\n",
    "2. **SourceViewSet**: Handles the CRUD operations for the Source model. It inherits from `CustomCreateViewSet` and `viewsets.ModelViewSet`.\n",
    "\n",
    "3. **MeasureViewSet**: Handles the CRUD operations for the Measure model. It inherits from `CustomCreateViewSet` and `viewsets.ModelViewSet`.\n",
    "\n",
    "4. **ChannelViewSet**: Handles the CRUD operations for the Channel model. It inherits from `CustomCreateViewSet` and `viewsets.ModelViewSet`.\n",
    "\n",
    "5. **ChunkViewSet**: Handles the CRUD operations for the Chunk model. It inherits from `CustomCreateViewSet` and `viewsets.ModelViewSet`.\n",
    "\n",
    "6. **TimeSerieViewSet**: Handles the CRUD operations for the TimeSerie model. It inherits from `CustomCreateViewSet` and `viewsets.ModelViewSet`. It has an additional `list` method which returns all instances of the TimeSerie model or filters them according to the request.\n",
    "\n",
    "Each of these classes plays a critical role in handling API requests and responses in the Timescaledbapp application.\n"
   ]
  },
  {
   "cell_type": "markdown",
   "id": "f51ce642-0287-4626-b125-6e101a5b6b98",
   "metadata": {},
   "source": [
    "## URL Configuration\n",
    "\n",
    "The API now has these endpoints configured:\n",
    "\n",
    "1. `/source`: Handles requests related to the Source model, with the associated view being `SourceViewSet`.\n",
    "2. `/measure`: Handles requests related to the Measure model, with the associated view being `MeasureViewSet`.\n",
    "3. `/channel`: Handles requests related to the Channel model, with the associated view being `ChannelViewSet`.\n",
    "4. `/timeserie`: Handles requests related to the TimeSerie model, with the associated view being `TimeSerieViewSet`.\n",
    "5. `/chunk`: Handles requests related to the Chunk model, with the associated view being `ChunkViewSet`.\n",
    "\n",
    "Additionally, the API has an authentication route configured at `/api-auth/`.\n"
   ]
  }
 ],
 "metadata": {
  "kernelspec": {
   "display_name": "Python 3 (ipykernel)",
   "language": "python",
   "name": "python3"
  },
  "language_info": {
   "codemirror_mode": {
    "name": "ipython",
    "version": 3
   },
   "file_extension": ".py",
   "mimetype": "text/x-python",
   "name": "python",
   "nbconvert_exporter": "python",
   "pygments_lexer": "ipython3",
   "version": "3.11.3"
  }
 },
 "nbformat": 4,
 "nbformat_minor": 5
}
