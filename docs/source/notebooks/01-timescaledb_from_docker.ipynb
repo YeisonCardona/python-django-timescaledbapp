{
 "cells": [
  {
   "cell_type": "markdown",
   "id": "7fec9d3b-1d48-4e37-9286-7204938ce097",
   "metadata": {},
   "source": [
    "# TimeScaleDB from Docker\n",
    "\n",
    "**TimeScaleDB** is a powerful and scalable **time-series database** that can handle large amounts of data and complex queries with ease. If you want to try TimeScaleDB, one way to get started is by running it in a **Docker container**. Docker allows you to easily create, deploy, and run applications in a **containerized environment**, which can be useful for testing and development purposes.\n",
    "\n",
    "In this section, we'll show you how to configure a TimeScaleDB database from a Docker container. We'll cover the basic steps for setting up a container, installing TimeScaleDB, and connecting to the database from outside the container. By the end of this section, you'll have a working TimeScaleDB database running in a Docker container, ready for you to experiment with and build upon."
   ]
  },
  {
   "cell_type": "markdown",
   "id": "56059545-0b19-4ec0-9c48-cdd6d3749e40",
   "metadata": {},
   "source": [
    "## Get Docker TimeScaleDB image\n",
    "\n",
    "To get started, we first need to download the TimeScaleDB Docker image. Open up a terminal and enter the following command:"
   ]
  },
  {
   "cell_type": "code",
   "execution_count": null,
   "id": "05cc53be-2bbd-4fe3-8a0b-495c64ff455f",
   "metadata": {},
   "outputs": [],
   "source": [
    "docker pull timescale/timescaledb:latest-pg15"
   ]
  },
  {
   "cell_type": "markdown",
   "id": "4c3dc02a-ab4a-496c-aa4a-8db0a8afb063",
   "metadata": {},
   "source": [
    "This will download the latest TimeScaleDB image for PostgreSQL 15. If you want to use a different version of PostgreSQL, replace `pg15` with the version you need."
   ]
  },
  {
   "cell_type": "markdown",
   "id": "564f068f-b03b-4577-bc88-51735576b7e3",
   "metadata": {},
   "source": [
    "## TimescaleDB container\n",
    "\n",
    "To run the TimeScaleDB container, use the following command:"
   ]
  },
  {
   "cell_type": "code",
   "execution_count": null,
   "id": "07581ab5-b95c-4f3e-993e-186b8c5ac166",
   "metadata": {},
   "outputs": [],
   "source": [
    "docker run -d --name timescaledb \\\n",
    "-p 127.0.0.1:5432:5432 \\\n",
    "-e POSTGRES_PASSWORD=password \\\n",
    "-e POSTGRES_DB=dunderlab_timescale_v1 \\\n",
    "timescale/timescaledb:latest-pg15"
   ]
  },
  {
   "cell_type": "markdown",
   "id": "33258b5b-2380-40cd-856c-bae9df517f6e",
   "metadata": {},
   "source": [
    "The command consists of several options:\n",
    "\n",
    "- `docker run`: Runs a new container.\n",
    "- `-d`: Detaches the container and runs it in the background.\n",
    "- `--name timescaledb`: Assigns the name \"timescaledb\" to the container.\n",
    "- `-p 127.0.0.1:5432:5432`: Maps the local port 5432 to the container's port 5432, allowing access to the database from outside the container.\n",
    "- `-e POSTGRES_PASSWORD=password`: Sets the environment variable `POSTGRES_PASSWORD` to \"password\", which is the password for the default user \"postgres\".\n",
    "- `-e POSTGRES_DB=dunderlab_timescale_v1`: Sets the environment variable `POSTGRES_DB` to \"dunderlab_timescale_v1\", which is the name of the database that will be created inside the container.\n",
    "`timescale/timescaledb:latest-pg15`: Specifies the Docker image to use for the container, which in this case is \"timescale/timescaledb\" with the \"latest-pg15\" tag, indicating the latest version of **TimeScaleDB** built on **PostgreSQL 15**.\n",
    "\n",
    "Overall, this command creates and starts a new container running the latest version of **TimeScaleDB** built on **PostgreSQL 15**, with the database name \"**dunderlab_timescale_v1**\" and the password \"**password**\" for the default user. The container is named \"**timescaledb**\" and can be accessed on port 5432 of the local machine."
   ]
  },
  {
   "cell_type": "markdown",
   "id": "07edeb80-abd7-4c6b-8ef5-c21bd7f6d10f",
   "metadata": {
    "jp-MarkdownHeadingCollapsed": true
   },
   "source": [
    "## Custom TimeScaleDB container creator\n",
    "\n",
    "This script provides a simple and convenient way to deploy a TimeScaleDB instance using Docker from the command line.  \n",
    "The script accepts command-line arguments for container name, Docker network, database password, and port. These arguments are optional with default values provided.\n",
    "\n",
    "To use the script, execute it from the command line with optional arguments as shown in the example below:\n",
    "```bash\n",
    "\n",
    "timescaledbapp_create --name mytimescaledb --network mynetwork --password mypassword --port 5433\n",
    "```\n",
    "\n",
    "This would launch a Docker container with the following configuration:\n",
    "\n",
    "- Container name: `mytimescaledb`\n",
    "- Docker network: `mynetwork`\n",
    "- Database password: `mypassword`\n",
    "- Port: `5433`\n",
    "\n",
    "By default, if you do not provide these arguments, the script will use the following values:\n",
    "\n",
    "- Container name: `timescaledb`\n",
    "- Docker network: `mynetwork`\n",
    "- Database password: `password`\n",
    "- Port: `5432`\n",
    "\n",
    "Please note, you will need Docker installed and running on your machine to utilize this script."
   ]
  },
  {
   "cell_type": "markdown",
   "id": "8d66f142-924b-4fd4-8862-e684970e8ea3",
   "metadata": {},
   "source": [
    "## Access to database\n",
    "\n",
    "This is a Docker command used to access the TimeScaleDB database inside the container. "
   ]
  },
  {
   "cell_type": "code",
   "execution_count": null,
   "id": "887222e1-a03a-41b7-80b3-340c53b3cd96",
   "metadata": {},
   "outputs": [],
   "source": [
    "docker exec -it timescaledb psql -U postgres -d mytimescaledb"
   ]
  },
  {
   "cell_type": "markdown",
   "id": "61797283-880a-4795-8ef5-507008257ed3",
   "metadata": {},
   "source": [
    "The command consists of several options:\n",
    "\n",
    "- `docker exec`: Runs a command inside a running container.\n",
    "- `-it`: Attaches the terminal to the container.\n",
    "- `timescaledb`: Specifies the name of the container to access.\n",
    "- `psql -U postgres -d mytimescaledb`: Specifies the command to run inside the container, which is to start the PostgreSQL command line interface (CLI) with the user \"**postgres**\" and the database \"**dunderlab_timescale_v1**\".\n",
    "\n",
    "Overall, this command opens a connection to the running **TimeScaleDB** container and starts the **PostgreSQL CLI** for the \"**mytimescaledb**\" database with the \"**postgres**\" user."
   ]
  },
  {
   "cell_type": "markdown",
   "id": "2c5e18ef-1a69-4cee-b686-427b78d31628",
   "metadata": {},
   "source": [
    "## Configure test database"
   ]
  },
  {
   "cell_type": "code",
   "execution_count": null,
   "id": "e8a69c15-6b11-4d68-b6b5-11efc4e87182",
   "metadata": {},
   "outputs": [],
   "source": [
    "timescaledbapp_create --name timescaledbapp_v2\n",
    "python manage.py migrate timescaledbapp --database='timescaledb'                                                                                      ─╯\n"
   ]
  }
 ],
 "metadata": {
  "kernelspec": {
   "display_name": "Python 3 (ipykernel)",
   "language": "python",
   "name": "python3"
  },
  "language_info": {
   "codemirror_mode": {
    "name": "ipython",
    "version": 3
   },
   "file_extension": ".py",
   "mimetype": "text/x-python",
   "name": "python",
   "nbconvert_exporter": "python",
   "pygments_lexer": "ipython3",
   "version": "3.11.3"
  }
 },
 "nbformat": 4,
 "nbformat_minor": 5
}
