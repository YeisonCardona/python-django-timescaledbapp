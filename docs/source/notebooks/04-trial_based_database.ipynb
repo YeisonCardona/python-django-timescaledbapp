{
 "cells": [
  {
   "cell_type": "code",
   "execution_count": 1,
   "id": "1b8bcdc7-3200-4281-9969-11fa48310a17",
   "metadata": {
    "editable": true,
    "nbsphinx": "hidden",
    "slideshow": {
     "slide_type": ""
    },
    "tags": []
   },
   "outputs": [],
   "source": [
    "import json\n",
    "from datetime import datetime\n",
    "import numpy as np\n",
    "from copy import copy\n",
    "\n",
    "channels_names = ['Fp1','Fp2','F7','F3','Fz','F4','F8','T7','T8','P7','P3','Pz','P4','P8','O1','O2']"
   ]
  },
  {
   "cell_type": "markdown",
   "id": "f79bce8e-2609-4244-83c1-881b7ed731e9",
   "metadata": {},
   "source": [
    "# Trial-based Database"
   ]
  },
  {
   "cell_type": "markdown",
   "id": "a9c612b7-2567-4f9f-9dd3-574cb7892b14",
   "metadata": {},
   "source": [
    "## Creating a Trial-based database\n",
    "\n",
    "In this section, we will walk through the process of creating a trial-based database. First, you need to set up a test database."
   ]
  },
  {
   "cell_type": "markdown",
   "id": "0cc2b842-e92b-4952-b1f4-af722c25718b",
   "metadata": {},
   "source": [
    "First, you need to set up a test database. Import the required libraries and create an API instance:"
   ]
  },
  {
   "cell_type": "code",
   "execution_count": 2,
   "id": "245ae085-6c74-4af5-9f07-8b5906e8e084",
   "metadata": {
    "tags": []
   },
   "outputs": [],
   "source": [
    "from dunderlab.api import aioAPI as API\n",
    "from dunderlab.api.utils import JSON\n",
    "\n",
    "api = API('http://localhost:8000/timescaledbapp/')"
   ]
  },
  {
   "cell_type": "markdown",
   "id": "3f43acf4-aca2-451e-944b-80e5216662e6",
   "metadata": {},
   "source": [
    "Register a new source for the database:"
   ]
  },
  {
   "cell_type": "code",
   "execution_count": 3,
   "id": "9efd17a8-ed10-4e9f-89d3-39b46ad58278",
   "metadata": {
    "tags": []
   },
   "outputs": [
    {
     "name": "stdout",
     "output_type": "stream",
     "text": [
      "\n",
      "{\n",
      "  \"label\": \"Test.v2\",\n",
      "  \"name\": \"Test Database\",\n",
      "  \"location\": \"Eje Cafetero\",\n",
      "  \"device\": \"None\",\n",
      "  \"protocol\": \"None\",\n",
      "  \"version\": \"0.1\",\n",
      "  \"description\": \"Sample trial-based database for TimeScaleDBApp\",\n",
      "  \"created\": \"2023-06-06T03:37:32.561508Z\",\n",
      "}\n"
     ]
    }
   ],
   "source": [
    "source_response = await api.source.post({\n",
    "    'label': 'Test.v2',\n",
    "    'name': 'Test Database',\n",
    "    'location': 'Eje Cafetero',\n",
    "    'device': 'None',\n",
    "    'protocol': 'None',\n",
    "    'version': '0.1',\n",
    "    'description': 'Sample trial-based database for TimeScaleDBApp',\n",
    "})\n",
    "\n",
    "JSON(source_response)"
   ]
  },
  {
   "cell_type": "markdown",
   "id": "20f2db5d-bded-4436-92b0-a0b6c6bb5225",
   "metadata": {},
   "source": [
    "Register a new measure:"
   ]
  },
  {
   "cell_type": "code",
   "execution_count": 4,
   "id": "33065a6e-f1d2-4c36-a165-62fb38319643",
   "metadata": {
    "tags": []
   },
   "outputs": [
    {
     "name": "stdout",
     "output_type": "stream",
     "text": [
      "\n",
      "{\n",
      "  \"label\": \"measure_02\",\n",
      "  \"name\": \"Measure 02\",\n",
      "  \"description\": \"Simple sinusoidals for 64 channels at different frequencies\",\n",
      "  \"source\": \"Test.v2\",\n",
      "}\n"
     ]
    }
   ],
   "source": [
    "measure_response = await api.measure.post({\n",
    "    'source': 'Test.v2',\n",
    "    'label': 'measure_02',\n",
    "    'name': 'Measure 02',\n",
    "    'description': 'Simple sinusoidals for 64 channels at different frequencies',\n",
    "})\n",
    "\n",
    "JSON(measure_response)"
   ]
  },
  {
   "cell_type": "markdown",
   "id": "04ddba29-7b11-4d64-b4ee-f1978630df90",
   "metadata": {},
   "source": [
    "Register the channels:"
   ]
  },
  {
   "cell_type": "code",
   "execution_count": 5,
   "id": "5cdcb890-87fa-462d-b126-d090ef0b7c55",
   "metadata": {},
   "outputs": [
    {
     "name": "stdout",
     "output_type": "stream",
     "text": [
      "[\n",
      "  {\n",
      "    \"label\": \"Fp1\",\n",
      "    \"name\": \"Channel Fp1\",\n",
      "    \"unit\": \"u\",\n",
      "    \"sampling_rate\": 1000.0,\n",
      "    \"description\": null,\n",
      "    \"measure\": \"measure_02\",\n",
      "    \"source\": \"Test.v2\",\n",
      "  }, \n",
      "  {\n",
      "    \"label\": \"Fp2\",\n",
      "    \"name\": \"Channel Fp2\",\n",
      "    \"unit\": \"u\",\n",
      "    \"sampling_rate\": 1000.0,\n",
      "    \"description\": null,\n",
      "    \"measure\": \"measure_02\",\n",
      "    \"source\": \"Test.v2\",\n",
      "  }, \n",
      "  {\n",
      "    \"label\": \"F7\",\n",
      "    \"name\": \"Channel F7\",\n",
      "    \"unit\": \"u\",\n",
      "    \"sampling_rate\": 1000.0,\n",
      "    \"description\": null,\n",
      "    \"measure\": \"measure_02\",\n",
      "    \"source\": \"Test.v2\",\n",
      "  }, \n",
      "  {\n",
      "    \"label\": \"F3\",\n",
      "    \"name\": \"Channel F3\",\n",
      "    \"unit\": \"u\",\n",
      "    \"sampling_rate\": 1000.0,\n",
      "    \"description\": null,\n",
      "    \"measure\": \"measure_02\",\n",
      "    \"source\": \"Test.v2\",\n",
      "  }, \n",
      "  {\n",
      "    \"label\": \"Fz\",\n",
      "    \"name\": \"Channel Fz\",\n",
      "    \"unit\": \"u\",\n",
      "    \"sampling_rate\": 1000.0,\n",
      "    \"description\": null,\n",
      "    \"measure\": \"measure_02\",\n",
      "    \"source\": \"Test.v2\",\n",
      "  }, ...]\n"
     ]
    }
   ],
   "source": [
    "channels_names = ['Fp1','Fp2','F7','F3','Fz','F4','F8','T7','T8','P7','P3','Pz','P4','P8','O1','O2']\n",
    "\n",
    "channel_response = await api.channel.post([{\n",
    "    'source': 'Test.v2',\n",
    "    'measure': 'measure_02',\n",
    "    'name': f'Channel {channel}',\n",
    "    'label': f'{channel}',\n",
    "    'unit': 'u',\n",
    "    'sampling_rate': '1000',\n",
    "} for channel in channels_names])\n",
    "\n",
    "JSON(channel_response)"
   ]
  },
  {
   "cell_type": "markdown",
   "id": "f534e366-a59a-4e18-98f0-df9c81bf5519",
   "metadata": {},
   "source": [
    "Now that you have set up the test database and registered the required components (source, measure, and channels), you can proceed with uploading time series data and creating trials. After uploading the data, you can query the trials and reconstruct the data for further analysis. The previous code snippets you provided demonstrate how to perform these tasks."
   ]
  },
  {
   "cell_type": "markdown",
   "id": "7e30f2ae-a40e-47d4-b9fa-08af9e42832e",
   "metadata": {
    "tags": []
   },
   "source": [
    "## Creating data structure and class vector\n",
    "\n",
    "In this section, we will create the required data structure, which is a three-dimensional vector (trial, channel, time), and a vector of classes. The three-dimensional vector represents the number of trials, channels, and time samples in the dataset. The class vector contains the class labels for each trial."
   ]
  },
  {
   "cell_type": "code",
   "execution_count": 6,
   "id": "3992f9c1-88cd-449e-bae7-88117ef48457",
   "metadata": {
    "tags": []
   },
   "outputs": [
    {
     "data": {
      "text/plain": [
       "((12, 16, 1000), (12,))"
      ]
     },
     "execution_count": 6,
     "metadata": {},
     "output_type": "execute_result"
    }
   ],
   "source": [
    "trials_per_class = 3\n",
    "classes = 4\n",
    "raw_data = np.random.normal(size=(trials_per_class*classes, len(channels_names), 1000)) # trials, channels, time\n",
    "\n",
    "classes = np.array([f'cLass-{cls}' for cls in range(classes)] *  trials_per_class)\n",
    "np.random.shuffle(classes)\n",
    "\n",
    "raw_data.shape, classes.shape"
   ]
  },
  {
   "cell_type": "markdown",
   "id": "4b469acf-87bc-407d-b58d-b464e468e85c",
   "metadata": {},
   "source": [
    "This code snippet demonstrates how to generate random data with a shape of (10, 16, 1000) representing 10 trials, 16 channels, and 1000 time samples. The trials are equally divided between two classes. The data is generated using the NumPy library and the random normal distribution function, which creates an array with the specified shape.\n",
    "\n",
    "In addition to the data, a class vector is created with 10 elements. The vector assigns the first 5 trials to class 0 and the remaining 5 trials to class 1. The class vector will be used later to associate each trial with its corresponding class when analyzing the data."
   ]
  },
  {
   "cell_type": "markdown",
   "id": "d837be04-90c5-4a3f-b3fa-31eabf1e9c59",
   "metadata": {},
   "source": [
    "## Uploading trials\n",
    "\n",
    "In this section, we will demonstrate how to upload data to the database, including the new `trial` and `trial_id` arguments. These arguments are used to associate each time series data point with a specific trial and its corresponding class."
   ]
  },
  {
   "cell_type": "code",
   "execution_count": 7,
   "id": "908ae7ef-55ac-4ee1-9884-ce9b68ef9537",
   "metadata": {
    "scrolled": true
   },
   "outputs": [
    {
     "name": "stdout",
     "output_type": "stream",
     "text": [
      "[\n",
      "  {\n",
      "    \"source\": \"Test.v2\",\n",
      "    \"measure\": \"measure_02\",\n",
      "    \"timestamps\": [0.0, 0.001, 0.002, 0.003, 0.004, ...],\n",
      "    \"chunk\": \"cLass-1\",\n",
      "    \"values\": \n",
      "    {\n",
      "      \"Fp1\": [-1.5177400358889044, -0.788977172993793, -0.03230030278992793, 0.41776901531361754, -0.7912434982958045, ...],\n",
      "      \"Fp2\": [0.7053272431256052, 0.564824599958775, 0.24947113891302522, -0.2770154941091011, -0.31160444728795944, ...],\n",
      "      \"F7\": [0.9545144291923049, 1.7277966884063762, -1.6484868624637383, 0.016119001124564408, -0.4861008412875246, ...],\n",
      "      \"F3\": [-0.9227370477718901, -0.39048273125408756, -0.3404258709300914, 0.2108472949983979, -0.6825153266253882, ...],\n",
      "      \"Fz\": [-2.2721685600289145, 1.6465217890489954, 2.4536740401499553, 0.4587805541416744, 0.5222498770782393, ...],\n",
      "      \"F4\": [-2.065727623114571, -0.6137497754493103, -0.5120253092698225, -1.2061519414122859, -0.5172526991706605, ...],\n",
      "      \"F8\": [-0.2354701771428703, -0.05788085719708232, 1.4967474968045162, 0.2977586287358451, -1.3125657844386658, ...],\n",
      "      \"T7\": [-0.8307155278732363, -0.04574153552659414, 0.7328696985634222, 0.8364956491191402, -0.8632108701385004, ...],\n",
      "      \"T8\": [0.30415789479160416, -0.09329404781032742, -0.16647565473165887, -1.6772108070825946, -0.7091567813593158, ...],\n",
      "      \"P7\": [0.0700610348471906, 0.470415488851524, -0.1429172361871878, -0.23370016340476757, -1.4200292373982424, ...],\n",
      "      \"P3\": [-1.132314449965133, 0.8803346510091454, -0.24028711350552515, 1.1973949189400612, 0.5848272708925653, ...],\n",
      "      \"Pz\": [-0.3983436027853963, 0.1753010169862216, -1.4235682356310062, 1.3670899833687626, -0.693947897947757, ...],\n",
      "      \"P4\": [0.3044198977321669, -1.4638553728107317, -1.5445103158157458, 1.929256154921828, 0.2959167217238077, ...],\n",
      "      \"P8\": [0.48336116101348336, -1.2066611879878453, 0.36635186465885605, 2.724188445610945, 1.7580035589679361, ...],\n",
      "      \"O1\": [0.9107241319780226, 0.7784827648187811, 0.7271251801032198, -0.08952695919756336, 0.17023837167011382, ...],\n",
      "      \"O2\": [-0.7224316241017974, 0.0359995110299849, -0.2719821240416557, -1.1524440036119972, 0.02657889109615089, ...],\n",
      "    },\n",
      "  }, \n",
      "  {\n",
      "    \"source\": \"Test.v2\",\n",
      "    \"measure\": \"measure_02\",\n",
      "    \"timestamps\": [1.0, 1.001, 1.002, 1.003, 1.004, ...],\n",
      "    \"chunk\": \"cLass-3\",\n",
      "    \"values\": \n",
      "    {\n",
      "      \"Fp1\": [0.15757460335790932, 0.18407385559018555, -1.858944952817503, -0.18259325723811679, -0.08942599282561842, ...],\n",
      "      \"Fp2\": [2.0456599951234318, -0.4177866686752268, 0.3533553580161102, 0.5792206187603901, 1.0543925748846936, ...],\n",
      "      \"F7\": [0.4599550027154971, 0.4251086273656599, -1.4094730434307197, -0.6169529008616196, 0.7729269676818712, ...],\n",
      "      \"F3\": [-0.3039814608541564, -0.9333737545789742, -0.012898438499063875, -0.6259690371142113, -0.5298860733825229, ...],\n",
      "      \"Fz\": [0.0024979874394115103, -0.20726436971216827, 0.772497223798602, 0.7412561376618516, -0.8869863084166103, ...],\n",
      "      \"F4\": [2.6089088375442553, 0.036566784290045874, 0.6302170809965103, -0.6710721895294811, 1.7268159831447145, ...],\n",
      "      \"F8\": [0.7896841377699716, -0.09129662874036715, 1.233927154332806, -0.3618314977793315, 0.674114968280682, ...],\n",
      "      \"T7\": [1.1444783489417711, 0.5085066607796808, -0.2015821334643892, 1.7970663852867632, -0.26226900743729886, ...],\n",
      "      \"T8\": [0.8158189598655726, -0.632215885524743, -1.141325855939806, 1.7050139246846285, 1.1412048413703344, ...],\n",
      "      \"P7\": [-0.25165686929478176, -0.6591896473008744, -0.1740432885135561, -1.1425806671083074, 0.9405016227455512, ...],\n",
      "      \"P3\": [0.1890760235639249, 0.222556871114821, 0.3707604527713291, -0.37870912320741856, -1.1527907529741483, ...],\n",
      "      \"Pz\": [0.9235829829987812, -0.7356827549036166, -1.739015788252254, -0.0736211248630558, -0.14240562228467862, ...],\n",
      "      \"P4\": [-0.1636040040133006, -0.6600672237685036, 0.6750399733129159, -0.6405379531774668, 0.3808400944712207, ...],\n",
      "      \"P8\": [1.170918422140867, -0.9590715008415003, -1.5070474413912516, 0.4583701619859625, -1.8998856249603135, ...],\n",
      "      \"O1\": [-0.18090058711052673, -0.33376910589063075, 0.9521788832787587, -0.9059892366535587, 0.2505711384976162, ...],\n",
      "      \"O2\": [-0.632352418867232, 1.3594451362707227, 0.8922169470760243, 0.6329083695299655, 1.1949299767988726, ...],\n",
      "    },\n",
      "  }, \n",
      "  {\n",
      "    \"source\": \"Test.v2\",\n",
      "    \"measure\": \"measure_02\",\n",
      "    \"timestamps\": [2.0, 2.001, 2.002, 2.003, 2.004, ...],\n",
      "    \"chunk\": \"cLass-1\",\n",
      "    \"values\": \n",
      "    {\n",
      "      \"Fp1\": [-1.3749966783068264, 0.9200507823249415, -0.6619644915989598, -1.5929987819779858, -1.3293621563339744, ...],\n",
      "      \"Fp2\": [-0.43236545715519153, -1.243815552719948, -0.3424818244410737, -1.0324664151008076, 0.7796609490822304, ...],\n",
      "      \"F7\": [-1.306716328242299, -0.02633902402859367, 1.111812137935585, -0.678690911394305, -0.8775559069138437, ...],\n",
      "      \"F3\": [0.8179691697280715, 0.27352634260811515, 2.05527665872821, -0.20851510067114823, -1.4056695644591788, ...],\n",
      "      \"Fz\": [0.8573214258438003, 0.573852281775652, 0.6704757504898707, 0.47523381811961624, -0.1286658165361358, ...],\n",
      "      \"F4\": [-0.14166487231873523, 0.3963015708828215, -0.5293816741374673, 0.19635244928198567, -0.8917110967528111, ...],\n",
      "      \"F8\": [0.3885949317176455, -0.901823660687875, -0.1219507850243762, 1.3929476161642491, 0.41162903781471644, ...],\n",
      "      \"T7\": [-1.3337170645002665, 0.8165255248369955, -1.1176306072113353, -0.3795837046323856, -0.4566266175595155, ...],\n",
      "      \"T8\": [1.1249338411898984, 0.344537871173198, -0.07098561653976346, -0.38779666780194233, -0.6355755476180854, ...],\n",
      "      \"P7\": [-0.14398780214116585, -0.924721386936874, -1.1839103631445513, 1.6752634303512914, -1.2222067725095023, ...],\n",
      "      \"P3\": [1.495976473221507, -1.5734777115485588, -0.06460792674748969, -0.5527134141055418, -0.397318576300021, ...],\n",
      "      \"Pz\": [0.8471913192896605, -0.7233281616999921, -1.6263810449134155, 1.0538362235504746, 0.488596369028829, ...],\n",
      "      \"P4\": [0.6294948203897025, 0.40086254767128854, 0.5706187740182544, 1.5943150662717909, 0.19149878522002922, ...],\n",
      "      \"P8\": [0.4481827814193037, 0.9022776557239659, -0.5231512851390405, -1.4433808499009646, -0.02148460182664529, ...],\n",
      "      \"O1\": [-0.7147077827281976, 0.8505623617716511, -0.6165448547898463, -1.7839471902484112, 0.4576363329578695, ...],\n",
      "      \"O2\": [-1.4338843266045338, 0.4797565809985554, 1.316601280934398, -1.0713868599067837, -1.191140912230335, ...],\n",
      "    },\n",
      "  }]\n"
     ]
    }
   ],
   "source": [
    "data = []\n",
    "for i, (trial, class_) in enumerate(zip(raw_data, classes)):\n",
    "    data.append({\n",
    "        'source': 'Test.v2',\n",
    "        'measure': 'measure_02',\n",
    "        'timestamps': np.linspace(i, i+1, 1000, endpoint=False).tolist(),\n",
    "        'chunk': class_,\n",
    "        'values': {ch: v.tolist() for ch, v in zip(channels_names, trial)}\n",
    "    })\n",
    "    \n",
    "JSON(data[:3])"
   ]
  },
  {
   "cell_type": "markdown",
   "id": "98ba58d3-9afc-4b31-bc8a-2d96b6ba41ce",
   "metadata": {},
   "source": [
    "This code snippet demonstrates how to create a list of time series data, including the new `trial` and `trial_id` arguments. The `trial_id` is incremented for each trial in the data, and the `trial` argument is assigned either 'Right' or 'Left' based on the class. The resulting `time_series` list contains data points with the necessary information for each trial, channel, and time sample."
   ]
  },
  {
   "cell_type": "markdown",
   "id": "bace985b-724b-4952-9785-bb0f31ce6ddc",
   "metadata": {},
   "source": [
    "In this section, we will upload the time series data to the database, following the same procedure as before."
   ]
  },
  {
   "cell_type": "code",
   "execution_count": 8,
   "id": "d95a7e58-928f-4bb8-9b1e-20fd4eefbaf3",
   "metadata": {
    "tags": []
   },
   "outputs": [
    {
     "data": {
      "text/plain": [
       "[[{'status': 'success',\n",
       "   'message': 'Your data has been successfully saved.',\n",
       "   'objects_created': 16000},\n",
       "  {'status': 'success',\n",
       "   'message': 'Your data has been successfully saved.',\n",
       "   'objects_created': 16000},\n",
       "  {'status': 'success',\n",
       "   'message': 'Your data has been successfully saved.',\n",
       "   'objects_created': 16000},\n",
       "  {'status': 'success',\n",
       "   'message': 'Your data has been successfully saved.',\n",
       "   'objects_created': 16000},\n",
       "  {'status': 'success',\n",
       "   'message': 'Your data has been successfully saved.',\n",
       "   'objects_created': 16000},\n",
       "  {'status': 'success',\n",
       "   'message': 'Your data has been successfully saved.',\n",
       "   'objects_created': 16000},\n",
       "  {'status': 'success',\n",
       "   'message': 'Your data has been successfully saved.',\n",
       "   'objects_created': 16000},\n",
       "  {'status': 'success',\n",
       "   'message': 'Your data has been successfully saved.',\n",
       "   'objects_created': 16000},\n",
       "  {'status': 'success',\n",
       "   'message': 'Your data has been successfully saved.',\n",
       "   'objects_created': 16000},\n",
       "  {'status': 'success',\n",
       "   'message': 'Your data has been successfully saved.',\n",
       "   'objects_created': 16000},\n",
       "  {'status': 'success',\n",
       "   'message': 'Your data has been successfully saved.',\n",
       "   'objects_created': 16000},\n",
       "  {'status': 'success',\n",
       "   'message': 'Your data has been successfully saved.',\n",
       "   'objects_created': 16000}]]"
      ]
     },
     "execution_count": 8,
     "metadata": {},
     "output_type": "execute_result"
    }
   ],
   "source": [
    "await api.timeserie.post(data, batch_size=32)"
   ]
  },
  {
   "cell_type": "markdown",
   "id": "53c422e1-081c-492e-8002-a7676bdfb247",
   "metadata": {},
   "source": [
    "This code snippet demonstrates how to upload the time series data to the database using the `api.timeserie.post()` method with a specified batch size of 32. The batch size determines how many data points are uploaded to the database in a single request, which can help improve the efficiency of the upload process."
   ]
  },
  {
   "cell_type": "markdown",
   "id": "0701b85c-4c4e-412a-b9c3-834eb0bb1ecf",
   "metadata": {},
   "source": [
    "## Querying trials\n",
    "\n",
    "In this section, we will demonstrate how to query the trials based on certain parameters. These parameters can be used to filter and retrieve specific data from the database. In this example, we will focus on querying trials based on the 'OpenBCI' source and 'Left' and 'Right' trial classes."
   ]
  },
  {
   "cell_type": "code",
   "execution_count": 9,
   "id": "20c8e60b-4162-4bec-b422-51ab39c3b6ea",
   "metadata": {
    "tags": []
   },
   "outputs": [
    {
     "name": "stdout",
     "output_type": "stream",
     "text": [
      "\n",
      "{\n",
      "  \"count\": 9,\n",
      "  \"next\": null,\n",
      "  \"previous\": null,\n",
      "  \"results\": [\n",
      "    {\n",
      "      \"source\": \"Test.v2\",\n",
      "      \"measure\": \"measure_02\",\n",
      "      \"timestamps\": [],\n",
      "      \"values\": \n",
      "      {\n",
      "        \"Fp1\": [-1.5177400358889044, -0.788977172993793, -0.03230030278992793, ...],\n",
      "        \"Fp2\": [0.7053272431256052, 0.564824599958775, 0.24947113891302522, ...],\n",
      "      },\n",
      "      \"chunk\": \"cLass-1\",\n",
      "    }, \n",
      "    {\n",
      "      \"source\": \"Test.v2\",\n",
      "      \"measure\": \"measure_02\",\n",
      "      \"timestamps\": [],\n",
      "      \"values\": \n",
      "      {\n",
      "        \"Fp1\": [-1.3749966783068264, 0.9200507823249415, -0.6619644915989598, ...],\n",
      "        \"Fp2\": [-0.43236545715519153, -1.243815552719948, -0.3424818244410737, ...],\n",
      "      },\n",
      "      \"chunk\": \"cLass-1\",\n",
      "    }, \n",
      "    {\n",
      "      \"source\": \"Test.v2\",\n",
      "      \"measure\": \"measure_02\",\n",
      "      \"timestamps\": [],\n",
      "      \"values\": \n",
      "      {\n",
      "        \"Fp1\": [-0.9630703498756138, -2.2598214681790183, -1.0793328027824352, ...],\n",
      "        \"Fp2\": [-1.2945145713763562, 0.1693452110584934, -0.5178774846086539, ...],\n",
      "      },\n",
      "      \"chunk\": \"cLass-2\",\n",
      "    }, ...],\n",
      "}\n"
     ]
    }
   ],
   "source": [
    "trials_response = await api.timeserie.get({\n",
    "    'source': 'Test.v2',\n",
    "    'measure': 'measure_02',\n",
    "    'chunks': ['cLass-0', 'cLass-1', 'cLass-2'],\n",
    "    'channels': [\n",
    "        'Fp1',\n",
    "        'Fp2',\n",
    "    ],\n",
    "    'timestamps': 'false',\n",
    "    # 'page_size': 2,\n",
    "})\n",
    "\n",
    "JSON(trials_response, max_list_len=3)"
   ]
  },
  {
   "cell_type": "markdown",
   "id": "990f2b83-b943-4f49-b5be-bcf6219ef5f3",
   "metadata": {},
   "source": [
    "In this example, the trials are queried based on the 'OpenBCI' source and 'Left' and 'Right' trial classes. The `channel` parameter is commented out, meaning that all channels will be included in the query. The `time` parameter is set to 'false' to exclude time information from the response. The resulting `trials_response` contains a list of trials with the specified filtering parameters applied, providing a convenient way to analyze and process the data."
   ]
  },
  {
   "cell_type": "markdown",
   "id": "d239f7d0-9acb-43b8-beb0-b39bbd787c00",
   "metadata": {},
   "source": [
    "## Reconstructing data from queried trials\n",
    "\n",
    "To reconstruct the data, we will iterate through the trials in the response and extract the channel values and trial classes. This process allows us to reassemble the data into a suitable format for further analysis or processing."
   ]
  },
  {
   "cell_type": "code",
   "execution_count": 10,
   "id": "b24c6dad-9360-431f-9e33-c55710168b3b",
   "metadata": {
    "tags": []
   },
   "outputs": [
    {
     "data": {
      "text/plain": [
       "((9, 2, 1000), (9,))"
      ]
     },
     "execution_count": 10,
     "metadata": {},
     "output_type": "execute_result"
    }
   ],
   "source": [
    "trials = []\n",
    "classes = []\n",
    "for trial in trials_response['results']:\n",
    "    trials.append(list(trial['values'].values()))\n",
    "    classes.append(trial['chunk'])\n",
    "    \n",
    "np.array(trials).shape, np.array(classes).shape"
   ]
  },
  {
   "cell_type": "markdown",
   "id": "9dac63ae-574b-4027-91c7-e28ce6098046",
   "metadata": {},
   "source": [
    "### Utilizing the ```get_data``` function from the Dunderlab API\n",
    "The script below uses the ```get_data``` function from the Dunderlab API to achieve the same goal as the code above. This function simplifies the process of reconstructing the data from the queried trials."
   ]
  },
  {
   "cell_type": "code",
   "execution_count": 11,
   "id": "1bc6c6a7-67b8-4a4c-999d-162569bdfda1",
   "metadata": {
    "tags": []
   },
   "outputs": [
    {
     "data": {
      "text/plain": [
       "((9, 2, 1000), (9,))"
      ]
     },
     "execution_count": 11,
     "metadata": {},
     "output_type": "execute_result"
    }
   ],
   "source": [
    "from dunderlab.api.utils import get_data\n",
    "\n",
    "trials, classes = get_data(trials_response)\n",
    "trials.shape, classes.shape"
   ]
  },
  {
   "cell_type": "markdown",
   "id": "0caa1139-fed6-4b04-b240-550b5d45fffb",
   "metadata": {},
   "source": [
    "In this example, the reconstructed data has a shape of (10, 16, 1000), representing 10 trials, each with 16 channels and 1000 time points. The reconstructed classes array has a shape of (10,), indicating 10 trial classes. This reconstructed data can now be used for further analysis or processing, such as machine learning or visualization tasks."
   ]
  }
 ],
 "metadata": {
  "kernelspec": {
   "display_name": "Python 3 (ipykernel)",
   "language": "python",
   "name": "python3"
  },
  "language_info": {
   "codemirror_mode": {
    "name": "ipython",
    "version": 3
   },
   "file_extension": ".py",
   "mimetype": "text/x-python",
   "name": "python",
   "nbconvert_exporter": "python",
   "pygments_lexer": "ipython3",
   "version": "3.11.3"
  }
 },
 "nbformat": 4,
 "nbformat_minor": 5
}
