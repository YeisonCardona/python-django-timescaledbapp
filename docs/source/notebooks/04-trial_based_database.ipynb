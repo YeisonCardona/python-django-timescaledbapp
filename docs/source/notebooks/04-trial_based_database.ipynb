{
 "cells": [
  {
   "cell_type": "code",
   "execution_count": 1,
   "id": "1b8bcdc7-3200-4281-9969-11fa48310a17",
   "metadata": {
    "editable": true,
    "nbsphinx": "hidden",
    "slideshow": {
     "slide_type": ""
    },
    "tags": []
   },
   "outputs": [],
   "source": [
    "import json\n",
    "from datetime import datetime\n",
    "import numpy as np\n",
    "from copy import copy\n",
    "\n",
    "channels_names = ['Fp1','Fp2','F7','F3','Fz','F4','F8','T7','T8','P7','P3','Pz','P4','P8','O1','O2']"
   ]
  },
  {
   "cell_type": "markdown",
   "id": "f79bce8e-2609-4244-83c1-881b7ed731e9",
   "metadata": {},
   "source": [
    "# Trial-based Database"
   ]
  },
  {
   "cell_type": "markdown",
   "id": "a9c612b7-2567-4f9f-9dd3-574cb7892b14",
   "metadata": {},
   "source": [
    "## Creating a Trial-based database\n",
    "\n",
    "In this section, we will walk through the process of creating a trial-based database. First, you need to set up a test database."
   ]
  },
  {
   "cell_type": "markdown",
   "id": "0cc2b842-e92b-4952-b1f4-af722c25718b",
   "metadata": {},
   "source": [
    "First, you need to set up a test database. Import the required libraries and create an API instance:"
   ]
  },
  {
   "cell_type": "code",
   "execution_count": 5,
   "id": "245ae085-6c74-4af5-9f07-8b5906e8e084",
   "metadata": {
    "tags": []
   },
   "outputs": [],
   "source": [
    "from dunderlab.api import aioAPI as API\n",
    "from dunderlab.api.utils import JSON\n",
    "\n",
    "api = API('http://localhost:8000/timescaledbapp/')"
   ]
  },
  {
   "cell_type": "markdown",
   "id": "3f43acf4-aca2-451e-944b-80e5216662e6",
   "metadata": {},
   "source": [
    "Register a new source for the database:"
   ]
  },
  {
   "cell_type": "code",
   "execution_count": 6,
   "id": "9efd17a8-ed10-4e9f-89d3-39b46ad58278",
   "metadata": {
    "tags": []
   },
   "outputs": [
    {
     "name": "stdout",
     "output_type": "stream",
     "text": [
      "\n",
      "{\n",
      "  \"label\": \"Test.v3\",\n",
      "  \"name\": \"Test Database\",\n",
      "  \"location\": \"Eje Cafetero\",\n",
      "  \"device\": \"None\",\n",
      "  \"protocol\": \"None\",\n",
      "  \"version\": \"0.1\",\n",
      "  \"description\": \"Sample trial-based database for TimeScaleDBApp\",\n",
      "  \"created\": \"2023-05-23T13:38:42.397888Z\",\n",
      "}\n"
     ]
    }
   ],
   "source": [
    "source_response = await api.source.post({\n",
    "    'label': 'Test.v3',\n",
    "    'name': 'Test Database',\n",
    "    'location': 'Eje Cafetero',\n",
    "    'device': 'None',\n",
    "    'protocol': 'None',\n",
    "    'version': '0.1',\n",
    "    'description': 'Sample trial-based database for TimeScaleDBApp',\n",
    "})\n",
    "\n",
    "JSON(source_response)"
   ]
  },
  {
   "cell_type": "markdown",
   "id": "20f2db5d-bded-4436-92b0-a0b6c6bb5225",
   "metadata": {},
   "source": [
    "Register a new measure:"
   ]
  },
  {
   "cell_type": "code",
   "execution_count": 70,
   "id": "33065a6e-f1d2-4c36-a165-62fb38319643",
   "metadata": {
    "tags": []
   },
   "outputs": [
    {
     "name": "stdout",
     "output_type": "stream",
     "text": [
      "\n",
      "{\n",
      "  \"label\": \"measure_04\",\n",
      "  \"name\": \"Measure 01\",\n",
      "  \"description\": \"Simple sinusoidals for 64 channels at different frequencies\",\n",
      "  \"source\": \"Test.v3\",\n",
      "}\n"
     ]
    }
   ],
   "source": [
    "measure_response = await api.measure.post({\n",
    "    'source': 'Test.v3',\n",
    "    'label': 'measure_04',\n",
    "    'name': 'Measure 01',\n",
    "    'description': 'Simple sinusoidals for 64 channels at different frequencies',\n",
    "})\n",
    "\n",
    "JSON(measure_response)"
   ]
  },
  {
   "cell_type": "markdown",
   "id": "04ddba29-7b11-4d64-b4ee-f1978630df90",
   "metadata": {},
   "source": [
    "Register the channels:"
   ]
  },
  {
   "cell_type": "code",
   "execution_count": 71,
   "id": "5cdcb890-87fa-462d-b126-d090ef0b7c55",
   "metadata": {},
   "outputs": [
    {
     "name": "stdout",
     "output_type": "stream",
     "text": [
      "[\n",
      "  {\n",
      "    \"label\": \"Fp1\",\n",
      "    \"name\": \"Channel Fp1\",\n",
      "    \"unit\": \"u\",\n",
      "    \"sampling_rate\": 1000.0,\n",
      "    \"description\": null,\n",
      "    \"measure\": \"measure_04\",\n",
      "    \"source\": \"Test.v3\",\n",
      "  }, \n",
      "  {\n",
      "    \"label\": \"Fp2\",\n",
      "    \"name\": \"Channel Fp2\",\n",
      "    \"unit\": \"u\",\n",
      "    \"sampling_rate\": 1000.0,\n",
      "    \"description\": null,\n",
      "    \"measure\": \"measure_04\",\n",
      "    \"source\": \"Test.v3\",\n",
      "  }, \n",
      "  {\n",
      "    \"label\": \"F7\",\n",
      "    \"name\": \"Channel F7\",\n",
      "    \"unit\": \"u\",\n",
      "    \"sampling_rate\": 1000.0,\n",
      "    \"description\": null,\n",
      "    \"measure\": \"measure_04\",\n",
      "    \"source\": \"Test.v3\",\n",
      "  }, \n",
      "  {\n",
      "    \"label\": \"F3\",\n",
      "    \"name\": \"Channel F3\",\n",
      "    \"unit\": \"u\",\n",
      "    \"sampling_rate\": 1000.0,\n",
      "    \"description\": null,\n",
      "    \"measure\": \"measure_04\",\n",
      "    \"source\": \"Test.v3\",\n",
      "  }, \n",
      "  {\n",
      "    \"label\": \"Fz\",\n",
      "    \"name\": \"Channel Fz\",\n",
      "    \"unit\": \"u\",\n",
      "    \"sampling_rate\": 1000.0,\n",
      "    \"description\": null,\n",
      "    \"measure\": \"measure_04\",\n",
      "    \"source\": \"Test.v3\",\n",
      "  }, ...]\n"
     ]
    }
   ],
   "source": [
    "channels_names = ['Fp1','Fp2','F7','F3','Fz','F4','F8','T7','T8','P7','P3','Pz','P4','P8','O1','O2']\n",
    "\n",
    "channel_response = await api.channel.post([{\n",
    "    'source': 'Test.v3',\n",
    "    'measure': 'measure_04',\n",
    "    'name': f'Channel {channel}',\n",
    "    'label': f'{channel}',\n",
    "    'unit': 'u',\n",
    "    'sampling_rate': '1000',\n",
    "} for channel in channels_names])\n",
    "\n",
    "JSON(channel_response)"
   ]
  },
  {
   "cell_type": "markdown",
   "id": "f534e366-a59a-4e18-98f0-df9c81bf5519",
   "metadata": {},
   "source": [
    "Now that you have set up the test database and registered the required components (source, measure, and channels), you can proceed with uploading time series data and creating trials. After uploading the data, you can query the trials and reconstruct the data for further analysis. The previous code snippets you provided demonstrate how to perform these tasks."
   ]
  },
  {
   "cell_type": "markdown",
   "id": "7e30f2ae-a40e-47d4-b9fa-08af9e42832e",
   "metadata": {
    "tags": []
   },
   "source": [
    "## Creating data structure and class vector\n",
    "\n",
    "In this section, we will create the required data structure, which is a three-dimensional vector (trial, channel, time), and a vector of classes. The three-dimensional vector represents the number of trials, channels, and time samples in the dataset. The class vector contains the class labels for each trial."
   ]
  },
  {
   "cell_type": "code",
   "execution_count": 67,
   "id": "3992f9c1-88cd-449e-bae7-88117ef48457",
   "metadata": {
    "tags": []
   },
   "outputs": [
    {
     "data": {
      "text/plain": [
       "((12, 16, 1000), (12,))"
      ]
     },
     "execution_count": 67,
     "metadata": {},
     "output_type": "execute_result"
    }
   ],
   "source": [
    "trials_per_class = 3\n",
    "classes = 4\n",
    "raw_data = np.random.normal(size=(trials_per_class*classes, len(channels_names), 1000)) # trials, channels, time\n",
    "\n",
    "classes = np.array([f'cLass-{cls}' for cls in range(classes)] *  trials_per_class)\n",
    "np.random.shuffle(classes)\n",
    "\n",
    "raw_data.shape, classes.shape"
   ]
  },
  {
   "cell_type": "markdown",
   "id": "4b469acf-87bc-407d-b58d-b464e468e85c",
   "metadata": {},
   "source": [
    "This code snippet demonstrates how to generate random data with a shape of (10, 16, 1000) representing 10 trials, 16 channels, and 1000 time samples. The trials are equally divided between two classes. The data is generated using the NumPy library and the random normal distribution function, which creates an array with the specified shape.\n",
    "\n",
    "In addition to the data, a class vector is created with 10 elements. The vector assigns the first 5 trials to class 0 and the remaining 5 trials to class 1. The class vector will be used later to associate each trial with its corresponding class when analyzing the data."
   ]
  },
  {
   "cell_type": "markdown",
   "id": "d837be04-90c5-4a3f-b3fa-31eabf1e9c59",
   "metadata": {},
   "source": [
    "## Uploading trials\n",
    "\n",
    "In this section, we will demonstrate how to upload data to the database, including the new `trial` and `trial_id` arguments. These arguments are used to associate each time series data point with a specific trial and its corresponding class."
   ]
  },
  {
   "cell_type": "code",
   "execution_count": 72,
   "id": "908ae7ef-55ac-4ee1-9884-ce9b68ef9537",
   "metadata": {
    "scrolled": true
   },
   "outputs": [
    {
     "name": "stdout",
     "output_type": "stream",
     "text": [
      "[\n",
      "  {\n",
      "    \"source\": \"Test.v3\",\n",
      "    \"measure\": \"measure_04\",\n",
      "    \"timestamps\": [0.0, 0.001, 0.002, 0.003, 0.004, ...],\n",
      "    \"chunk\": \"cLass-1\",\n",
      "    \"values\": \n",
      "    {\n",
      "      \"Fp1\": [-1.6723759831277665, -0.9473302997458278, 1.0350157020911188, -0.13423741313738147, 0.44213124997099895, ...],\n",
      "      \"Fp2\": [1.680885905906827, -0.1733593233589856, -0.011461002564741505, 1.1170364796446257, -0.28294682413068106, ...],\n",
      "      \"F7\": [0.18728360215630885, -0.33346644921009494, 2.5875332167554745, 2.3871154156571293, 0.5436863013530485, ...],\n",
      "      \"F3\": [1.2093193193276395, -1.3937398652106703, 2.118364410248672, 0.03893524317374443, -0.7148656465038554, ...],\n",
      "      \"Fz\": [0.0329858016009721, -0.47006625363272, -0.0644958255885579, -0.5062373449531851, -0.19944962870579777, ...],\n",
      "      \"F4\": [-0.33191532288976977, -0.17625404968931085, 0.290702978810691, 0.4433066292703765, -2.390242683154221, ...],\n",
      "      \"F8\": [0.6248110949787076, -0.405694648015326, -0.0713277858295882, -0.8391293842673967, -1.3114113655037913, ...],\n",
      "      \"T7\": [-0.827511716860875, -0.842029979934463, -0.28244217927585175, 2.8964984280447292, -0.3042017413723287, ...],\n",
      "      \"T8\": [0.2725652912871424, -0.3404795302946109, -0.6436471809973157, -0.2718244555835521, 0.1911947759007649, ...],\n",
      "      \"P7\": [-0.560204964558506, -1.1499270320959052, -0.9794600799171219, -1.3491606875388737, -0.2740731495710109, ...],\n",
      "      \"P3\": [-0.8999878017844904, -2.3720252176367445, 2.132254612461601, -0.563812247887552, -1.0000164920127315, ...],\n",
      "      \"Pz\": [-0.8285672961887222, 0.11834933998812067, 1.1446883465190623, 0.5614352483242472, -1.8991372499002714, ...],\n",
      "      \"P4\": [-0.7096349621024363, -0.012160992312643936, -1.3185938897223513, 0.21361311594276108, 0.1353333639865762, ...],\n",
      "      \"P8\": [1.2384124984358968, -1.0983847034600422, -1.1725199378224642, 1.4494699889526534, 0.0858882622517292, ...],\n",
      "      \"O1\": [0.36334789477595536, 1.4372377266007976, 0.21600395071563763, 0.7532476085637024, -0.57131034175884, ...],\n",
      "      \"O2\": [0.4366995759782305, -1.9784627496350922, 1.5080844642342985, -0.7234823022798423, -0.09889741010606053, ...],\n",
      "    },\n",
      "  }, \n",
      "  {\n",
      "    \"source\": \"Test.v3\",\n",
      "    \"measure\": \"measure_04\",\n",
      "    \"timestamps\": [1.0, 1.001, 1.002, 1.003, 1.004, ...],\n",
      "    \"chunk\": \"cLass-3\",\n",
      "    \"values\": \n",
      "    {\n",
      "      \"Fp1\": [0.30003218496200734, 0.9406371926692999, 1.518942244438466, 1.2917633517403369, 0.8044770464162737, ...],\n",
      "      \"Fp2\": [0.3253417675256962, 1.5216538908480812, -0.2667911385912353, 2.093588209441683, -0.4175954663078442, ...],\n",
      "      \"F7\": [-0.02428275390676855, -0.9267501026082899, 0.13618038812492697, 0.64637234013443, 1.702111804256265, ...],\n",
      "      \"F3\": [-1.069608539113828, 0.30992267262627105, 0.4397072740757771, -1.3121474587702533, 0.1625905152591449, ...],\n",
      "      \"Fz\": [0.9664783784026392, -0.3308061102050598, -0.8872761247678274, 1.4612240607819156, 0.10351315578112279, ...],\n",
      "      \"F4\": [0.5647080724077926, -1.3660596551832118, -0.5229174500097094, 0.40227775441943053, -0.7724054646216716, ...],\n",
      "      \"F8\": [-1.0942795243979964, 0.21376875592896508, -1.191043103739552, 0.5528532578545572, 1.4313717838473947, ...],\n",
      "      \"T7\": [-0.9906170064038238, 1.463947428218671, 0.7665067000796495, -0.7680316953586809, -0.3650643908518444, ...],\n",
      "      \"T8\": [-0.096235043593014, -0.4546628519234146, -0.6798023989467878, 0.5955317003170325, 0.2565989808751413, ...],\n",
      "      \"P7\": [1.429785704291684, 0.6766114627092354, 0.1478277447600057, 0.29789442918675313, 0.889547375005382, ...],\n",
      "      \"P3\": [0.6318331713430269, -1.0331511069501145, -0.7482702525015837, 0.5081619030744436, -0.7738588323550198, ...],\n",
      "      \"Pz\": [1.694659535084538, -0.7982272411063485, 1.4077269555733767, 1.6616316794088766, 0.6298546193329678, ...],\n",
      "      \"P4\": [-0.9643035980466892, 0.7244308858550108, 0.4638936710160653, 1.1849855277113446, 0.10222758598476034, ...],\n",
      "      \"P8\": [-1.8078902577228304, -0.04915104443426052, -0.3373161652352504, -0.1709490154943396, -1.2758432912135036, ...],\n",
      "      \"O1\": [1.0042408369488942, -0.025759764855750846, -0.7926114993447487, 0.6562381076957596, -0.06562193658332571, ...],\n",
      "      \"O2\": [0.4124050797109863, -0.9702039987244097, 0.07116547473693953, 0.2785320588861958, -0.2980728840269007, ...],\n",
      "    },\n",
      "  }, \n",
      "  {\n",
      "    \"source\": \"Test.v3\",\n",
      "    \"measure\": \"measure_04\",\n",
      "    \"timestamps\": [2.0, 2.001, 2.002, 2.003, 2.004, ...],\n",
      "    \"chunk\": \"cLass-1\",\n",
      "    \"values\": \n",
      "    {\n",
      "      \"Fp1\": [0.2925707332508038, 0.7009836522831058, 0.19938579486057034, 0.2344557945575094, 2.514857907383188, ...],\n",
      "      \"Fp2\": [0.07687330948265829, 1.5640173039622551, -0.9889755990090431, -0.5135955313126652, -0.78654862186926, ...],\n",
      "      \"F7\": [1.8210117993173076, -0.19169748621095078, -0.19139411419328994, 0.7623250802729206, -0.9108931615769695, ...],\n",
      "      \"F3\": [0.583347188160063, 0.31160030300479735, -1.0928172357591315, -1.3547808885697212, -0.24825529799005247, ...],\n",
      "      \"Fz\": [-0.631601722865805, -0.21905077748422924, -0.1545359686917297, 1.8080768126297966, -0.3914003801758435, ...],\n",
      "      \"F4\": [-1.1126438700518886, -1.6360834291545805, 1.9386645239684903, 0.21731933597122224, -0.028231488067386554, ...],\n",
      "      \"F8\": [0.5438094629820257, 0.04307769373458117, 1.3192774289727272, -0.8303225564789324, 0.5182961826173165, ...],\n",
      "      \"T7\": [-1.7403259604781598, 1.0509943855664383, -0.6643463944884404, 0.004594224396730348, -1.3030427293769984, ...],\n",
      "      \"T8\": [1.3295364603198854, -0.42525701307367714, 1.2898851224339305, -1.8460599678795027, 0.5183274405724714, ...],\n",
      "      \"P7\": [0.1436049447958852, -1.0607199637000995, 0.5603497921142307, 0.8238866576360508, 0.48701609800503537, ...],\n",
      "      \"P3\": [-0.6951651429261974, 0.001838804872247914, 2.6679680907968892, 0.6254713572498616, -0.43004962485938397, ...],\n",
      "      \"Pz\": [0.7750763740738177, -0.38016903687034226, -0.6118579932781257, -0.21843119167177755, -0.041197062599191904, ...],\n",
      "      \"P4\": [-0.8323374671372312, -0.12851265224552846, 0.4896714945302334, 0.5772182066826952, -0.5985809817747096, ...],\n",
      "      \"P8\": [-0.6497795490306352, 1.2824501875387428, -0.953097124474715, 0.9303312289803857, -1.9119115085830523, ...],\n",
      "      \"O1\": [0.3877372403466534, -0.686445083617871, -0.5090984255533412, 1.95828449865493, -0.9119337601280819, ...],\n",
      "      \"O2\": [-1.9890413439057968, 1.4872470557635562, -0.47787951237391885, 2.6462119001748574, 1.34601308258591, ...],\n",
      "    },\n",
      "  }]\n"
     ]
    }
   ],
   "source": [
    "data = []\n",
    "for i, (trial, class_) in enumerate(zip(raw_data, classes)):\n",
    "    data.append({\n",
    "        'source': 'Test.v3',\n",
    "        'measure': 'measure_04',\n",
    "        'timestamps': np.linspace(i, i+1, 1000, endpoint=False).tolist(),\n",
    "        'chunk': class_,\n",
    "        'values': {ch: v.tolist() for ch, v in zip(channels_names, trial)}\n",
    "    })\n",
    "    \n",
    "JSON(data[:3])"
   ]
  },
  {
   "cell_type": "markdown",
   "id": "98ba58d3-9afc-4b31-bc8a-2d96b6ba41ce",
   "metadata": {},
   "source": [
    "This code snippet demonstrates how to create a list of time series data, including the new `trial` and `trial_id` arguments. The `trial_id` is incremented for each trial in the data, and the `trial` argument is assigned either 'Right' or 'Left' based on the class. The resulting `time_series` list contains data points with the necessary information for each trial, channel, and time sample."
   ]
  },
  {
   "cell_type": "markdown",
   "id": "bace985b-724b-4952-9785-bb0f31ce6ddc",
   "metadata": {},
   "source": [
    "In this section, we will upload the time series data to the database, following the same procedure as before."
   ]
  },
  {
   "cell_type": "code",
   "execution_count": 73,
   "id": "d95a7e58-928f-4bb8-9b1e-20fd4eefbaf3",
   "metadata": {
    "tags": []
   },
   "outputs": [
    {
     "data": {
      "text/plain": [
       "[{}]"
      ]
     },
     "execution_count": 73,
     "metadata": {},
     "output_type": "execute_result"
    }
   ],
   "source": [
    "await api.timeserie.post(data, batch_size=32)"
   ]
  },
  {
   "cell_type": "markdown",
   "id": "53c422e1-081c-492e-8002-a7676bdfb247",
   "metadata": {},
   "source": [
    "This code snippet demonstrates how to upload the time series data to the database using the `api.timeserie.post()` method with a specified batch size of 32. The batch size determines how many data points are uploaded to the database in a single request, which can help improve the efficiency of the upload process."
   ]
  },
  {
   "cell_type": "markdown",
   "id": "0701b85c-4c4e-412a-b9c3-834eb0bb1ecf",
   "metadata": {},
   "source": [
    "## Querying trials\n",
    "\n",
    "In this section, we will demonstrate how to query the trials based on certain parameters. These parameters can be used to filter and retrieve specific data from the database. In this example, we will focus on querying trials based on the 'OpenBCI' source and 'Left' and 'Right' trial classes."
   ]
  },
  {
   "cell_type": "code",
   "execution_count": 87,
   "id": "20c8e60b-4162-4bec-b422-51ab39c3b6ea",
   "metadata": {
    "tags": []
   },
   "outputs": [
    {
     "name": "stdout",
     "output_type": "stream",
     "text": [
      "\n",
      "{\n",
      "  \"count\": 9,\n",
      "  \"next\": null,\n",
      "  \"previous\": null,\n",
      "  \"results\": [\n",
      "    {\n",
      "      \"source\": \"Test.v3\",\n",
      "      \"measure\": \"measure_04\",\n",
      "      \"timestamps\": [],\n",
      "      \"values\": \n",
      "      {\n",
      "        \"Fp1\": [-1.6723759831277665, -0.9473302997458278, 1.0350157020911188, ...],\n",
      "        \"Fp2\": [1.680885905906827, -0.1733593233589856, -0.011461002564741505, ...],\n",
      "      },\n",
      "      \"chunk\": \"cLass-1\",\n",
      "    }, \n",
      "    {\n",
      "      \"source\": \"Test.v3\",\n",
      "      \"measure\": \"measure_04\",\n",
      "      \"timestamps\": [],\n",
      "      \"values\": \n",
      "      {\n",
      "        \"Fp1\": [0.2925707332508038, 0.7009836522831058, 0.19938579486057034, ...],\n",
      "        \"Fp2\": [0.07687330948265829, 1.5640173039622551, -0.9889755990090431, ...],\n",
      "      },\n",
      "      \"chunk\": \"cLass-1\",\n",
      "    }, \n",
      "    {\n",
      "      \"source\": \"Test.v3\",\n",
      "      \"measure\": \"measure_04\",\n",
      "      \"timestamps\": [],\n",
      "      \"values\": \n",
      "      {\n",
      "        \"Fp1\": [0.09047255018464918, -0.627132504011511, 0.9677498234443604, ...],\n",
      "        \"Fp2\": [0.7810200018072582, -0.7662184612206309, -0.01198492672771307, ...],\n",
      "      },\n",
      "      \"chunk\": \"cLass-2\",\n",
      "    }, ...],\n",
      "}\n"
     ]
    }
   ],
   "source": [
    "trials_response = await api.timeserie.get({\n",
    "    'source': 'Test.v3',\n",
    "    'measure': 'measure_04',\n",
    "    'chunks': ['cLass-0', 'cLass-1', 'cLass-2'],\n",
    "    'channels': [\n",
    "        'Fp1',\n",
    "        'Fp2',\n",
    "    ],\n",
    "    'timestamps': 'false',\n",
    "    # 'page_size': 2,\n",
    "})\n",
    "\n",
    "JSON(trials_response, max_list_len=3)"
   ]
  },
  {
   "cell_type": "markdown",
   "id": "990f2b83-b943-4f49-b5be-bcf6219ef5f3",
   "metadata": {},
   "source": [
    "In this example, the trials are queried based on the 'OpenBCI' source and 'Left' and 'Right' trial classes. The `channel` parameter is commented out, meaning that all channels will be included in the query. The `time` parameter is set to 'false' to exclude time information from the response. The resulting `trials_response` contains a list of trials with the specified filtering parameters applied, providing a convenient way to analyze and process the data."
   ]
  },
  {
   "cell_type": "markdown",
   "id": "d239f7d0-9acb-43b8-beb0-b39bbd787c00",
   "metadata": {},
   "source": [
    "## Reconstructing data from queried trials\n",
    "\n",
    "To reconstruct the data, we will iterate through the trials in the response and extract the channel values and trial classes. This process allows us to reassemble the data into a suitable format for further analysis or processing."
   ]
  },
  {
   "cell_type": "code",
   "execution_count": 94,
   "id": "b24c6dad-9360-431f-9e33-c55710168b3b",
   "metadata": {
    "tags": []
   },
   "outputs": [
    {
     "data": {
      "text/plain": [
       "((9, 2, 1000), (9,))"
      ]
     },
     "execution_count": 94,
     "metadata": {},
     "output_type": "execute_result"
    }
   ],
   "source": [
    "trials = []\n",
    "classes = []\n",
    "for trial in trials_response['results']:\n",
    "    trials.append(list(trial['values'].values()))\n",
    "    classes.append(trial['chunk'])\n",
    "    \n",
    "np.array(trials).shape, np.array(classes).shape"
   ]
  },
  {
   "cell_type": "markdown",
   "id": "9dac63ae-574b-4027-91c7-e28ce6098046",
   "metadata": {},
   "source": [
    "### Utilizing the ```get_data``` function from the Dunderlab API\n",
    "The script below uses the ```get_data``` function from the Dunderlab API to achieve the same goal as the code above. This function simplifies the process of reconstructing the data from the queried trials."
   ]
  },
  {
   "cell_type": "code",
   "execution_count": 89,
   "id": "1bc6c6a7-67b8-4a4c-999d-162569bdfda1",
   "metadata": {
    "tags": []
   },
   "outputs": [
    {
     "data": {
      "text/plain": [
       "((9, 2, 1000), (9,))"
      ]
     },
     "execution_count": 89,
     "metadata": {},
     "output_type": "execute_result"
    }
   ],
   "source": [
    "from dunderlab.api.utils import get_data\n",
    "\n",
    "trials, classes = get_data(trials_response)\n",
    "trials.shape, classes.shape"
   ]
  },
  {
   "cell_type": "markdown",
   "id": "0caa1139-fed6-4b04-b240-550b5d45fffb",
   "metadata": {},
   "source": [
    "In this example, the reconstructed data has a shape of (10, 16, 1000), representing 10 trials, each with 16 channels and 1000 time points. The reconstructed classes array has a shape of (10,), indicating 10 trial classes. This reconstructed data can now be used for further analysis or processing, such as machine learning or visualization tasks."
   ]
  }
 ],
 "metadata": {
  "kernelspec": {
   "display_name": "Python 3 (ipykernel)",
   "language": "python",
   "name": "python3"
  },
  "language_info": {
   "codemirror_mode": {
    "name": "ipython",
    "version": 3
   },
   "file_extension": ".py",
   "mimetype": "text/x-python",
   "name": "python",
   "nbconvert_exporter": "python",
   "pygments_lexer": "ipython3",
   "version": "3.11.3"
  }
 },
 "nbformat": 4,
 "nbformat_minor": 5
}
